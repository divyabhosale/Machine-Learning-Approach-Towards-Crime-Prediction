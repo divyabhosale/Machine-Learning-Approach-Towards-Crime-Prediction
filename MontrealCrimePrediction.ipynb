{
 "cells": [
  {
   "cell_type": "code",
   "execution_count": 1,
   "metadata": {},
   "outputs": [],
   "source": [
    "#Loading the libraries\n",
    "import pandas as pd\n",
    "import numpy as np\n",
    "import sklearn\n",
    "from sklearn.model_selection import train_test_split, RandomizedSearchCV\n",
    "from sklearn.ensemble import RandomForestClassifier,AdaBoostClassifier\n",
    "from sklearn.metrics import accuracy_score, confusion_matrix, classification_report\n",
    "from sklearn.neighbors import KNeighborsClassifier\n",
    "from sklearn.preprocessing import StandardScaler\n",
    "from random import randint\n",
    "import scipy.stats"
   ]
  },
  {
   "cell_type": "code",
   "execution_count": 2,
   "metadata": {},
   "outputs": [],
   "source": [
    "#Data Loading\n",
    "montreal_data=pd.read_csv(\"Montreal_2015toOct2020.csv\",encoding='latin_1')\n",
    "pdq_data=pd.read_csv(\"pdq.csv\",encoding='latin_1')"
   ]
  },
  {
   "cell_type": "code",
   "execution_count": 3,
   "metadata": {},
   "outputs": [],
   "source": [
    "#Data Cleaning\n",
    "#Montreal data\n",
    "montreal_data.rename(columns={\"CATEGORIE\":\"OFFENCE\",\"QUART\":\"OCCURENCETIME\"},inplace=True)\n",
    "montreal_data = montreal_data.dropna(how='any',axis=0) \n",
    "\n",
    "offence_factorize=pd.factorize(montreal_data[\"OFFENCE\"])\n",
    "montreal_data[\"OFFENCE\"]=offence_factorize[0]\n",
    "offence_list_names=offence_factorize[1]\n",
    "montreal_data[\"OCCURENCETIME\"]=pd.factorize(montreal_data[\"OCCURENCETIME\"])[0]\n",
    "\n",
    "montreal_data[\"PDQ\"]=montreal_data[\"PDQ\"].astype(np.int32)\n",
    "montreal_data[[\"OCCURENCEYEAR\",\"OCCURENCEMONTH\",\"OCCURENCEDATE\"]]=montreal_data.DATE.str.split(\"-\", expand=True)\n",
    "\n",
    "#PDQ data\n",
    "pdq_data.rename(columns={\"PREFIX_TEM\":\"TYPEOFROAD\",\"MUN_TEMP\":\"MUNICIPALITY\"},inplace=True)\n",
    "pdq_data[[\"temp\",\"PDQ\"]] = pdq_data.DESC_LIEU.str.split(\"QUARTIER\", expand = True)\n",
    "pdq_data[\"PDQ\"] = pdq_data[\"PDQ\"].astype(np.int32)\n",
    "pdq_data.drop([\"temp\",\"DESC_LIEU\",\"NO_CIV_LIE\",\"DIR_TEMP\",\"LONGITUDE\",\"LATITUDE\",\"NOM_TEMP\",\"OBJECTID\"],axis =1 ,\\\n",
    "              inplace=True)\n",
    "\n",
    "pdq_data[\"TYPEOFROAD\"]=pd.factorize(pdq_data[\"TYPEOFROAD\"])[0]\n",
    "pdq_data[\"MUNICIPALITY\"]=pd.factorize(pdq_data[\"MUNICIPALITY\"])[0]"
   ]
  },
  {
   "cell_type": "code",
   "execution_count": 4,
   "metadata": {},
   "outputs": [],
   "source": [
    "#Compute Weekday and Season features\n",
    "montreal_data['DATE'] = pd.to_datetime(montreal_data['DATE'])\n",
    "montreal_data['WEEKDAYINT'] = montreal_data['DATE'].apply(lambda x: x.weekday())\n",
    "montreal_data['YEAR']=montreal_data['DATE'].dt.to_period('Y').astype(str)\n",
    "montreal_data['MONTH']=montreal_data['DATE'].dt.to_period('M').astype(str)\n",
    "montreal_data['MONTH']  = montreal_data['MONTH'].str.split('-').str[1]\n",
    "montreal_data['MONTH'] = montreal_data['MONTH'].apply(pd.to_numeric)\n",
    "montreal_data['YEAR'] = montreal_data['YEAR'].apply(pd.to_numeric)\n",
    "season = [] \n",
    "for value in montreal_data['MONTH']: \n",
    "    if value >= 4 and value <= 7: \n",
    "        season.append(\"Summer\") \n",
    "    elif value >= 7 and value <= 10: \n",
    "        season.append(\"Fall\") \n",
    "    else:\n",
    "        season.append(\"Winter\") \n",
    "     \n",
    "    \n",
    "montreal_data['SEASON'] = season\n",
    "montreal_data['SEASONINT'] = pd.factorize(montreal_data['SEASON'])[0]"
   ]
  },
  {
   "cell_type": "code",
   "execution_count": 5,
   "metadata": {},
   "outputs": [],
   "source": [
    "#Merging the tables\n",
    "montreal_pdq_data=pd.merge(montreal_data ,pdq_data,on =[\"PDQ\"])"
   ]
  },
  {
   "cell_type": "code",
   "execution_count": 6,
   "metadata": {},
   "outputs": [],
   "source": [
    "#Data Processing\n",
    "#Splitting data\n",
    "X=montreal_pdq_data[[\"X\",\"Y\",\"OCCURENCEYEAR\",\"OCCURENCEMONTH\",\"OCCURENCEDATE\",\"OCCURENCETIME\",\"MUNICIPALITY\",\"TYPEOFROAD\",\"LATITUDE\",\"LONGITUDE\",\"WEEKDAYINT\",\"SEASONINT\"]]\n",
    "y=montreal_pdq_data[[\"OFFENCE\"]]\n",
    "X_train, X_test, y_train, y_test = train_test_split(X, y, test_size=0.25, random_state=0)"
   ]
  },
  {
   "cell_type": "code",
   "execution_count": null,
   "metadata": {},
   "outputs": [],
   "source": [
    "def result(classifier_random):\n",
    "    y_pred = classifier_random.best_estimator_.predict(X_test)\n",
    "    print(\"Training score:\"+str(accuracy_score(y_train,classifier_random.best_estimator_.predict(X_train))))\n",
    "    print(\"Testing score:\"+str(accuracy_score(y_test,y_pred)))\n",
    "    print(confusion_matrix(y_test,y_pred))\n",
    "    print(classification_report(y_test,y_pred, target_names=offence_list_names))"
   ]
  },
  {
   "cell_type": "code",
   "execution_count": 66,
   "metadata": {},
   "outputs": [
    {
     "name": "stdout",
     "output_type": "stream",
     "text": [
      "{'max_depth': [1, 2, 3, 4, 5, 6, 7, 8, 9, 10], 'min_samples_leaf': [1, 2, 3], 'n_estimators': [10, 64, 118, 173, 227, 282, 336, 391, 445, 500], 'max_features': [1, 2, 3, 4, 5, 6, 7, 8], 'bootstrap': [True, False], 'criterion': ['gini', 'entropy']}\n",
      "Fitting 3 folds for each of 100 candidates, totalling 300 fits\n"
     ]
    },
    {
     "name": "stderr",
     "output_type": "stream",
     "text": [
      "[Parallel(n_jobs=-1)]: Using backend LokyBackend with 8 concurrent workers.\n",
      "[Parallel(n_jobs=-1)]: Done  25 tasks      | elapsed:  3.4min\n",
      "[Parallel(n_jobs=-1)]: Done 146 tasks      | elapsed: 16.0min\n",
      "[Parallel(n_jobs=-1)]: Done 300 out of 300 | elapsed: 38.8min finished\n",
      "C:\\Users\\Sai Krishna\\Anaconda3\\lib\\site-packages\\sklearn\\model_selection\\_search.py:715: DataConversionWarning: A column-vector y was passed when a 1d array was expected. Please change the shape of y to (n_samples,), for example using ravel().\n",
      "  self.best_estimator_.fit(X, y, **fit_params)\n"
     ]
    }
   ],
   "source": [
    "#RandomForest\n",
    "rf_classifier = RandomForestClassifier()\n",
    "# rf_classifier.fit(X_train, y_train.values.ravel())\n",
    "# y_pred = rf_classifier.predict(X_test)\n",
    "\n",
    "#Hyper parameters\n",
    "params_rf={\n",
    "    'min_samples_leaf': [int(x) for x in np.linspace(start = 1, stop = 3, num = 3)],\n",
    "    'n_estimators': [int(x) for x in np.linspace(start = 10, stop = 500, num = 10)],\n",
    "    'max_features': [int(x) for x in np.linspace(start = 1, stop = 8, num = 8)],\n",
    "    'bootstrap': [True, False],\n",
    "    'criterion': ['gini','entropy'],\n",
    "}\n",
    "\n",
    "rf_random = RandomizedSearchCV(estimator = rf_classifier, param_distributions = params_rf, n_iter = 50, cv = 3, \n",
    "                               verbose=2, random_state=0, n_jobs = -1)\n",
    "rf_random.fit(X_train,y_train.values.ravel())"
   ]
  },
  {
   "cell_type": "code",
   "execution_count": 69,
   "metadata": {},
   "outputs": [
    {
     "name": "stdout",
     "output_type": "stream",
     "text": [
      "Training score:0.4440678228433899\n",
      "Testing score:0.41256906718670194\n",
      "[[1130  433    7 2586 2172    0]\n",
      " [ 380 1189    6 3888 4183    0]\n",
      " [ 129  189   30  889 1217    0]\n",
      " [ 524  781   11 7556 4069    0]\n",
      " [ 492  711   10 2595 7866    0]\n",
      " [   5    2    0   11   13    0]]\n",
      "                                  precision    recall  f1-score   support\n",
      "\n",
      "        Vol de véhicule à moteur       0.42      0.18      0.25      6328\n",
      "                          Méfait       0.36      0.12      0.18      9646\n",
      "                  Vols qualifiés       0.47      0.01      0.02      2454\n",
      "Vol dans / sur véhicule à moteur       0.43      0.58      0.50     12941\n",
      "                    Introduction       0.40      0.67      0.50     11674\n",
      "  Infractions entrainant la mort       0.00      0.00      0.00        31\n",
      "\n",
      "                        accuracy                           0.41     43074\n",
      "                       macro avg       0.35      0.26      0.24     43074\n",
      "                    weighted avg       0.41      0.41      0.37     43074\n",
      "\n",
      "{'n_estimators': 391, 'min_samples_leaf': 2, 'max_features': 8, 'max_depth': 10, 'criterion': 'entropy', 'bootstrap': True}\n"
     ]
    },
    {
     "name": "stderr",
     "output_type": "stream",
     "text": [
      "C:\\Users\\Sai Krishna\\Anaconda3\\lib\\site-packages\\sklearn\\metrics\\classification.py:1437: UndefinedMetricWarning: Precision and F-score are ill-defined and being set to 0.0 in labels with no predicted samples.\n",
      "  'precision', 'predicted', average, warn_for)\n"
     ]
    }
   ],
   "source": [
    "#Results\n",
    "result(rf_random)"
   ]
  },
  {
   "cell_type": "code",
   "execution_count": 73,
   "metadata": {},
   "outputs": [
    {
     "name": "stdout",
     "output_type": "stream",
     "text": [
      "Fitting 3 folds for each of 50 candidates, totalling 150 fits\n"
     ]
    },
    {
     "name": "stderr",
     "output_type": "stream",
     "text": [
      "[Parallel(n_jobs=-1)]: Using backend LokyBackend with 8 concurrent workers.\n",
      "[Parallel(n_jobs=-1)]: Done  25 tasks      | elapsed:  7.6min\n",
      "[Parallel(n_jobs=-1)]: Done 150 out of 150 | elapsed: 31.3min finished\n"
     ]
    },
    {
     "data": {
      "text/plain": [
       "RandomizedSearchCV(cv=3, error_score='raise-deprecating',\n",
       "                   estimator=KNeighborsClassifier(algorithm='auto',\n",
       "                                                  leaf_size=30,\n",
       "                                                  metric='minkowski',\n",
       "                                                  metric_params=None,\n",
       "                                                  n_jobs=None, n_neighbors=5,\n",
       "                                                  p=2, weights='uniform'),\n",
       "                   iid='warn', n_iter=50, n_jobs=-1,\n",
       "                   param_distributions={'algorithm': ['auto', 'ball_tree',\n",
       "                                                      'kd_tree', 'brute'],\n",
       "                                        'n_neighbors': [1, 2, 3, 4, 5, 6, 7, 8,\n",
       "                                                        9, 10],\n",
       "                                        'weights': ['uniform', 'distance']},\n",
       "                   pre_dispatch='2*n_jobs', random_state=0, refit=True,\n",
       "                   return_train_score=False, scoring=None, verbose=2)"
      ]
     },
     "execution_count": 73,
     "metadata": {},
     "output_type": "execute_result"
    }
   ],
   "source": [
    "#knn\n",
    "knn_classifier=KNeighborsClassifier()\n",
    "# knn_classifier.fit(X_train,y_train.values.ravel())\n",
    "# y_pred=knn_classifier.predict(X_test)\n",
    "\n",
    "#Hyperparameters\n",
    "params_knn={\n",
    "    'n_neighbors': [int(x) for x in np.linspace(start = 1, stop = 10, num = 10)],\n",
    "    'weights': ['uniform', 'distance'],\n",
    "    'algorithm': ['auto', 'ball_tree', 'kd_tree', 'brute'],\n",
    "}\n",
    "\n",
    "knn_random = RandomizedSearchCV(estimator = knn_classifier, param_distributions = params_knn, n_iter = 50, cv = 3, \n",
    "                               verbose=2, random_state=0, n_jobs = -1)\n",
    "knn_random.fit(X_train,y_train.values.ravel());"
   ]
  },
  {
   "cell_type": "code",
   "execution_count": 74,
   "metadata": {},
   "outputs": [
    {
     "name": "stdout",
     "output_type": "stream",
     "text": [
      "Training score:0.4440678228433899\n",
      "Testing score:0.39004968194270323\n",
      "[[1642 1148  113 1955 1470    0]\n",
      " [1011 2852  270 2972 2541    0]\n",
      " [ 228  628  358  726  514    0]\n",
      " [1439 2366  209 6365 2562    0]\n",
      " [1172 2284  254 2380 5584    0]\n",
      " [   3   10    1   12    5    0]]\n",
      "                                  precision    recall  f1-score   support\n",
      "\n",
      "        Vol de véhicule à moteur       0.30      0.26      0.28      6328\n",
      "                          Méfait       0.31      0.30      0.30      9646\n",
      "                  Vols qualifiés       0.30      0.15      0.20      2454\n",
      "Vol dans / sur véhicule à moteur       0.44      0.49      0.47     12941\n",
      "                    Introduction       0.44      0.48      0.46     11674\n",
      "  Infractions entrainant la mort       0.00      0.00      0.00        31\n",
      "\n",
      "                        accuracy                           0.39     43074\n",
      "                       macro avg       0.30      0.28      0.28     43074\n",
      "                    weighted avg       0.38      0.39      0.38     43074\n",
      "\n"
     ]
    },
    {
     "name": "stderr",
     "output_type": "stream",
     "text": [
      "C:\\Users\\Sai Krishna\\Anaconda3\\lib\\site-packages\\sklearn\\metrics\\classification.py:1437: UndefinedMetricWarning: Precision and F-score are ill-defined and being set to 0.0 in labels with no predicted samples.\n",
      "  'precision', 'predicted', average, warn_for)\n"
     ]
    }
   ],
   "source": [
    "#Results\n",
    "result(knn_random)"
   ]
  },
  {
   "cell_type": "code",
   "execution_count": 76,
   "metadata": {},
   "outputs": [
    {
     "name": "stdout",
     "output_type": "stream",
     "text": [
      "Fitting 3 folds for each of 50 candidates, totalling 150 fits\n"
     ]
    },
    {
     "name": "stderr",
     "output_type": "stream",
     "text": [
      "[Parallel(n_jobs=-1)]: Using backend LokyBackend with 8 concurrent workers.\n",
      "[Parallel(n_jobs=-1)]: Done  25 tasks      | elapsed:  5.7min\n",
      "[Parallel(n_jobs=-1)]: Done 150 out of 150 | elapsed: 36.5min finished\n"
     ]
    }
   ],
   "source": [
    "#AdaBoost\n",
    "ab_classifier = AdaBoostClassifier()\n",
    "# ab_classifier.fit(X_train, y_train.values.ravel())\n",
    "# y_pred = ab_classifier.predict(X_test)\n",
    "\n",
    "#Hyperparameters\n",
    "params_ab={\n",
    "    'n_estimators': [int(x) for x in np.linspace(start = 10, stop = 500, num = 10)],\n",
    "    'learning_rate': scipy.stats.reciprocal(0.01, 1.0),\n",
    "    'algorithm': ['SAMME.R', 'SAMME'],\n",
    "    'random_state': [int(x) for x in np.linspace(start = 1, stop = 10, num = 10)]\n",
    "}\n",
    "\n",
    "ab_random = RandomizedSearchCV(estimator = ab_classifier, param_distributions = params_ab, n_iter = 50, cv = 3, \n",
    "                               verbose=2, random_state=0, n_jobs = -1)\n",
    "ab_random.fit(X_train,y_train.values.ravel());"
   ]
  },
  {
   "cell_type": "code",
   "execution_count": 77,
   "metadata": {},
   "outputs": [
    {
     "name": "stdout",
     "output_type": "stream",
     "text": [
      "Training score:0.37589673345251085\n",
      "Testing score:0.37412360124437016\n",
      "[[ 385  240    0 2862 2841    0]\n",
      " [ 254  556    0 4217 4619    0]\n",
      " [  48   53    0  985 1368    0]\n",
      " [ 280  446    0 7328 4887    0]\n",
      " [ 342  454    0 3032 7846    0]\n",
      " [   0    1    0   11   19    0]]\n",
      "                                  precision    recall  f1-score   support\n",
      "\n",
      "        Vol de véhicule à moteur       0.29      0.06      0.10      6328\n",
      "                          Méfait       0.32      0.06      0.10      9646\n",
      "                  Vols qualifiés       0.00      0.00      0.00      2454\n",
      "Vol dans / sur véhicule à moteur       0.40      0.57      0.47     12941\n",
      "                    Introduction       0.36      0.67      0.47     11674\n",
      "  Infractions entrainant la mort       0.00      0.00      0.00        31\n",
      "\n",
      "                        accuracy                           0.37     43074\n",
      "                       macro avg       0.23      0.23      0.19     43074\n",
      "                    weighted avg       0.33      0.37      0.30     43074\n",
      "\n"
     ]
    },
    {
     "name": "stderr",
     "output_type": "stream",
     "text": [
      "C:\\Users\\Sai Krishna\\Anaconda3\\lib\\site-packages\\sklearn\\metrics\\classification.py:1437: UndefinedMetricWarning: Precision and F-score are ill-defined and being set to 0.0 in labels with no predicted samples.\n",
      "  'precision', 'predicted', average, warn_for)\n"
     ]
    }
   ],
   "source": [
    "#Results\n",
    "result(ab_random)"
   ]
  }
 ],
 "metadata": {
  "kernelspec": {
   "display_name": "Python 3",
   "language": "python",
   "name": "python3"
  },
  "language_info": {
   "codemirror_mode": {
    "name": "ipython",
    "version": 3
   },
   "file_extension": ".py",
   "mimetype": "text/x-python",
   "name": "python",
   "nbconvert_exporter": "python",
   "pygments_lexer": "ipython3",
   "version": "3.8.3"
  }
 },
 "nbformat": 4,
 "nbformat_minor": 2
}

{
 "cells": [
  {
   "cell_type": "code",
   "execution_count": 1,
   "metadata": {},
   "outputs": [],
   "source": [
    "#Loading the libraries\n",
    "import pandas as pd\n",
    "import numpy as np\n",
    "import sklearn\n",
    "from sklearn.model_selection import train_test_split, RandomizedSearchCV\n",
    "from sklearn.ensemble import RandomForestClassifier,AdaBoostClassifier\n",
    "from sklearn.metrics import accuracy_score, confusion_matrix, recall_score, precision_score, f1_score\n",
    "from sklearn.neighbors import KNeighborsClassifier\n",
    "from sklearn.preprocessing import StandardScaler\n",
    "from random import randint\n",
    "import scipy.stats\n",
    "import matplotlib.pyplot as plt\n",
    "import seaborn as sns\n",
    "import warnings\n",
    "warnings.filterwarnings('ignore')"
   ]
  },
  {
   "cell_type": "code",
   "execution_count": 3,
   "metadata": {},
   "outputs": [],
   "source": [
    "#Data Loading\n",
    "montreal_data=pd.read_csv(\"Montreal_2015toOct2020.csv\",encoding='latin_1')\n",
    "pdq_data=pd.read_csv(\"pdq.csv\",encoding='latin_1')"
   ]
  },
  {
   "cell_type": "code",
   "execution_count": 4,
   "metadata": {},
   "outputs": [],
   "source": [
    "#Data Cleaning\n",
    "#Montreal data\n",
    "montreal_data.rename(columns={\"CATEGORIE\":\"OFFENCE\",\"QUART\":\"OCCURENCETIME\"},inplace=True)\n",
    "montreal_data = montreal_data.dropna(how='any',axis=0) \n",
    "\n",
    "offence_factorize=pd.factorize(montreal_data[\"OFFENCE\"])\n",
    "montreal_data[\"OFFENCE\"]=offence_factorize[0]\n",
    "offence_list_names=offence_factorize[1]\n",
    "montreal_data[\"OCCURENCETIME\"]=pd.factorize(montreal_data[\"OCCURENCETIME\"])[0]\n",
    "\n",
    "montreal_data[\"PDQ\"]=montreal_data[\"PDQ\"].astype(np.int32)\n",
    "montreal_data[[\"OCCURENCEYEAR\",\"OCCURENCEMONTH\",\"OCCURENCEDATE\"]]=montreal_data.DATE.str.split(\"-\", expand=True)\n",
    "\n",
    "#PDQ data\n",
    "pdq_data.rename(columns={\"PREFIX_TEM\":\"TYPEOFROAD\",\"MUN_TEMP\":\"MUNICIPALITY\"},inplace=True)\n",
    "pdq_data[[\"temp\",\"PDQ\"]] = pdq_data.DESC_LIEU.str.split(\"QUARTIER\", expand = True)\n",
    "pdq_data[\"PDQ\"] = pdq_data[\"PDQ\"].astype(np.int32)\n",
    "pdq_data.drop([\"temp\",\"DESC_LIEU\",\"NO_CIV_LIE\",\"DIR_TEMP\",\"LONGITUDE\",\"LATITUDE\",\"NOM_TEMP\",\"OBJECTID\"],axis =1 ,\\\n",
    "              inplace=True)\n",
    "\n",
    "pdq_data[\"TYPEOFROAD\"]=pd.factorize(pdq_data[\"TYPEOFROAD\"])[0]\n",
    "pdq_data[\"MUNICIPALITY\"]=pd.factorize(pdq_data[\"MUNICIPALITY\"])[0]"
   ]
  },
  {
   "cell_type": "code",
   "execution_count": 5,
   "metadata": {},
   "outputs": [],
   "source": [
    "#Compute Weekday and Season features\n",
    "montreal_data['DATE'] = pd.to_datetime(montreal_data['DATE'])\n",
    "montreal_data['WEEKDAY'] = montreal_data['DATE'].apply(lambda x: x.weekday())\n",
    "montreal_data['YEAR']=montreal_data['DATE'].dt.to_period('Y').astype(str)\n",
    "montreal_data['MONTH']=montreal_data['DATE'].dt.to_period('M').astype(str)\n",
    "montreal_data['MONTH']  = montreal_data['MONTH'].str.split('-').str[1]\n",
    "montreal_data['MONTH'] = montreal_data['MONTH'].apply(pd.to_numeric)\n",
    "montreal_data['YEAR'] = montreal_data['YEAR'].apply(pd.to_numeric)\n",
    "season = [] \n",
    "for value in montreal_data['MONTH']: \n",
    "    if value >= 4 and value <= 7: \n",
    "        season.append(\"Summer\") \n",
    "    elif value >= 7 and value <= 10: \n",
    "        season.append(\"Fall\") \n",
    "    else:\n",
    "        season.append(\"Winter\") \n",
    "\n",
    "montreal_data['SEASON'] = pd.factorize(season)[0]"
   ]
  },
  {
   "cell_type": "code",
   "execution_count": 6,
   "metadata": {},
   "outputs": [],
   "source": [
    "#Merging the tables\n",
    "montreal_pdq_data=pd.merge(montreal_data ,pdq_data,on =[\"PDQ\"])"
   ]
  },
  {
   "cell_type": "code",
   "execution_count": 7,
   "metadata": {},
   "outputs": [],
   "source": [
    "#Data Processing\n",
    "#Splitting data\n",
    "X=montreal_pdq_data[[\"X\",\"Y\",\"OCCURENCEYEAR\",\"OCCURENCEMONTH\",\"OCCURENCEDATE\",\"OCCURENCETIME\",\"MUNICIPALITY\",\\\n",
    "                     \"TYPEOFROAD\",\"LATITUDE\",\"LONGITUDE\",\"WEEKDAY\",\"SEASON\"]]\n",
    "y=montreal_pdq_data[[\"OFFENCE\"]]\n",
    "X_train, X_test, y_train, y_test = train_test_split(X, y, test_size=0.25, random_state=0)"
   ]
  },
  {
   "cell_type": "code",
   "execution_count": 8,
   "metadata": {},
   "outputs": [],
   "source": [
    "#Results function\n",
    "def result(classifier_random):\n",
    "    y_pred = classifier_random.best_estimator_.predict(X_test)\n",
    "    \n",
    "    print(\"Accuracy    : \", str(accuracy_score(y_test,y_pred)*100))\n",
    "    print(\"Recall      : \", str(recall_score(y_test,y_pred,average='weighted')*100))\n",
    "    print(\"Precision   : \", str(precision_score(y_test,y_pred,average='weighted')*100))\n",
    "    print(\"F1 Score    : \", str(f1_score(y_test,y_pred,average='micro')*100))\n",
    "    cf_mat(y_test,y_pred)"
   ]
  },
  {
   "cell_type": "code",
   "execution_count": 9,
   "metadata": {},
   "outputs": [],
   "source": [
    "#Plotting function\n",
    "def cf_mat(y_test,y_pred):    \n",
    "    plt.figure(figsize=(6,6))\n",
    "    cf_matrix = confusion_matrix(y_test, y_pred)\n",
    "    categorie = ['Motor vehicle theft', 'Misdemeanor(Mischiefs)', 'Qualified flights(Robbery)', \\\n",
    "                                         'Flight into / on motor vehicle', 'Introduction(Breaking)', \\\n",
    "                                         'Offenses causing death']\n",
    "\n",
    "    sns.heatmap(cf_matrix, annot=True, cmap='rocket_r', xticklabels=categorie, yticklabels=categorie, fmt='d')\n",
    "    plt.xticks([0.5,1.5,2.5,3.5,4.5,5.5])\n",
    "    plt.yticks([0.5,1.5,2.5,3.5,4.5,5.5])\n",
    "    plt.xlim(0,6)\n",
    "    plt.ylim(0,6)\n",
    "    plt.title('Confusion Matrix')"
   ]
  },
  {
   "cell_type": "code",
   "execution_count": 11,
   "metadata": {},
   "outputs": [
    {
     "name": "stdout",
     "output_type": "stream",
     "text": [
      "Fitting 3 folds for each of 50 candidates, totalling 150 fits\n"
     ]
    },
    {
     "name": "stderr",
     "output_type": "stream",
     "text": [
      "[Parallel(n_jobs=-1)]: Using backend LokyBackend with 8 concurrent workers.\n",
      "[Parallel(n_jobs=-1)]: Done  25 tasks      | elapsed: 11.2min\n",
      "[Parallel(n_jobs=-1)]: Done 150 out of 150 | elapsed: 62.8min finished\n"
     ]
    },
    {
     "data": {
      "text/plain": [
       "RandomizedSearchCV(cv=3, error_score='raise-deprecating',\n",
       "                   estimator=RandomForestClassifier(bootstrap=True,\n",
       "                                                    class_weight=None,\n",
       "                                                    criterion='gini',\n",
       "                                                    max_depth=None,\n",
       "                                                    max_features='auto',\n",
       "                                                    max_leaf_nodes=None,\n",
       "                                                    min_impurity_decrease=0.0,\n",
       "                                                    min_impurity_split=None,\n",
       "                                                    min_samples_leaf=1,\n",
       "                                                    min_samples_split=2,\n",
       "                                                    min_weight_fraction_leaf=0.0,\n",
       "                                                    n_estimators='warn',\n",
       "                                                    n_jobs=None,\n",
       "                                                    oob_sc...\n",
       "                                                    verbose=0,\n",
       "                                                    warm_start=False),\n",
       "                   iid='warn', n_iter=50, n_jobs=-1,\n",
       "                   param_distributions={'bootstrap': [True, False],\n",
       "                                        'criterion': ['gini', 'entropy'],\n",
       "                                        'max_features': [1, 2, 3, 4, 5, 6, 7,\n",
       "                                                         8],\n",
       "                                        'min_samples_leaf': [1, 2, 3],\n",
       "                                        'n_estimators': [10, 64, 118, 173, 227,\n",
       "                                                         282, 336, 391, 445,\n",
       "                                                         500]},\n",
       "                   pre_dispatch='2*n_jobs', random_state=0, refit=True,\n",
       "                   return_train_score=False, scoring=None, verbose=2)"
      ]
     },
     "execution_count": 11,
     "metadata": {},
     "output_type": "execute_result"
    }
   ],
   "source": [
    "#RandomForest\n",
    "rf_classifier = RandomForestClassifier()\n",
    "\n",
    "#Hyper parameters\n",
    "params_rf={\n",
    "    'min_samples_leaf': [int(x) for x in np.linspace(start = 1, stop = 3, num = 3)],\n",
    "    'n_estimators': [int(x) for x in np.linspace(start = 10, stop = 500, num = 10)],\n",
    "    'max_features': [int(x) for x in np.linspace(start = 1, stop = 8, num = 8)],\n",
    "    'bootstrap': [True, False],\n",
    "    'criterion': ['gini','entropy'],\n",
    "}\n",
    "\n",
    "rf_random = RandomizedSearchCV(estimator = rf_classifier, param_distributions = params_rf, n_iter = 50, cv = 3, \n",
    "                               verbose=2, random_state=0, n_jobs = -1)\n",
    "rf_random.fit(X_train,y_train.values.ravel())"
   ]
  },
  {
   "cell_type": "code",
   "execution_count": 12,
   "metadata": {},
   "outputs": [
    {
     "name": "stdout",
     "output_type": "stream",
     "text": [
      "========== Random Forest Results ==========\n",
      "\n",
      "Accuracy    :  43.86404791753726\n",
      "Recall      :  43.86404791753726\n",
      "Precision   :  43.590436213244594\n",
      "F1 Score    :  43.86404791753726\n"
     ]
    },
    {
     "data": {
      "image/png": "[encoded data removed]",
      "text/plain": [
       "<Figure size 432x432 with 2 Axes>"
      ]
     },
     "metadata": {
      "needs_background": "light"
     },
     "output_type": "display_data"
    }
   ],
   "source": [
    "#Results\n",
    "print(\"========== Random Forest Results ==========\\n\")\n",
    "result(rf_random)"
   ]
  },
  {
   "cell_type": "code",
   "execution_count": null,
   "metadata": {},
   "outputs": [],
   "source": [
    "#knn\n",
    "knn_classifier=KNeighborsClassifier()\n",
    "\n",
    "#Hyperparameters\n",
    "params_knn={\n",
    "    'n_neighbors': [int(x) for x in np.linspace(start = 1, stop = 10, num = 10)],\n",
    "    'weights': ['uniform', 'distance'],\n",
    "    'algorithm': ['auto', 'ball_tree', 'kd_tree', 'brute'],\n",
    "}\n",
    "\n",
    "knn_random = RandomizedSearchCV(estimator = knn_classifier, param_distributions = params_knn, n_iter = 50, cv = 3, \n",
    "                               verbose=2, random_state=0, n_jobs = -1)\n",
    "knn_random.fit(X_train,y_train.values.ravel())"
   ]
  },
  {
   "cell_type": "code",
   "execution_count": 10,
   "metadata": {},
   "outputs": [
    {
     "ename": "NameError",
     "evalue": "name 'knn_random' is not defined",
     "output_type": "error",
     "traceback": [
      "\u001b[1;31m---------------------------------------------------------------------------\u001b[0m",
      "\u001b[1;31mNameError\u001b[0m                                 Traceback (most recent call last)",
      "\u001b[1;32m<ipython-input-10-252a078da7fb>\u001b[0m in \u001b[0;36m<module>\u001b[1;34m\u001b[0m\n\u001b[0;32m      1\u001b[0m \u001b[1;31m#Results\u001b[0m\u001b[1;33m\u001b[0m\u001b[1;33m\u001b[0m\u001b[1;33m\u001b[0m\u001b[0m\n\u001b[1;32m----> 2\u001b[1;33m \u001b[0mresult\u001b[0m\u001b[1;33m(\u001b[0m\u001b[0mknn_random\u001b[0m\u001b[1;33m)\u001b[0m\u001b[1;33m\u001b[0m\u001b[1;33m\u001b[0m\u001b[0m\n\u001b[0m",
      "\u001b[1;31mNameError\u001b[0m: name 'knn_random' is not defined"
     ]
    }
   ],
   "source": [
    "#Results\n",
    "print(\"========== KNN Results ==========\\n\")\n",
    "result(knn_random)"
   ]
  },
  {
   "cell_type": "code",
   "execution_count": null,
   "metadata": {},
   "outputs": [],
   "source": [
    "#AdaBoost\n",
    "ab_classifier = AdaBoostClassifier()\n",
    "\n",
    "#Hyperparameters\n",
    "params_ab={\n",
    "    'n_estimators': [int(x) for x in np.linspace(start = 10, stop = 500, num = 10)],\n",
    "    'learning_rate': scipy.stats.reciprocal(0.01, 1.0),\n",
    "    'algorithm': ['SAMME.R', 'SAMME'],\n",
    "    'random_state': [int(x) for x in np.linspace(start = 1, stop = 10, num = 10)]\n",
    "}\n",
    "\n",
    "ab_random = RandomizedSearchCV(estimator = ab_classifier, param_distributions = params_ab, n_iter = 50, cv = 3, \n",
    "                               verbose=2, random_state=0, n_jobs = -1)\n",
    "ab_random.fit(X_train,y_train.values.ravel())"
   ]
  },
  {
   "cell_type": "code",
   "execution_count": 77,
   "metadata": {},
   "outputs": [
    {
     "name": "stdout",
     "output_type": "stream",
     "text": [
      "Training score:0.37589673345251085\n",
      "Testing score:0.37412360124437016\n",
      "[[ 385  240    0 2862 2841    0]\n",
      " [ 254  556    0 4217 4619    0]\n",
      " [  48   53    0  985 1368    0]\n",
      " [ 280  446    0 7328 4887    0]\n",
      " [ 342  454    0 3032 7846    0]\n",
      " [   0    1    0   11   19    0]]\n",
      "                                  precision    recall  f1-score   support\n",
      "\n",
      "        Vol de véhicule à moteur       0.29      0.06      0.10      6328\n",
      "                          Méfait       0.32      0.06      0.10      9646\n",
      "                  Vols qualifiés       0.00      0.00      0.00      2454\n",
      "Vol dans / sur véhicule à moteur       0.40      0.57      0.47     12941\n",
      "                    Introduction       0.36      0.67      0.47     11674\n",
      "  Infractions entrainant la mort       0.00      0.00      0.00        31\n",
      "\n",
      "                        accuracy                           0.37     43074\n",
      "                       macro avg       0.23      0.23      0.19     43074\n",
      "                    weighted avg       0.33      0.37      0.30     43074\n",
      "\n"
     ]
    },
    {
     "name": "stderr",
     "output_type": "stream",
     "text": [
      "C:\\Users\\Sai Krishna\\Anaconda3\\lib\\site-packages\\sklearn\\metrics\\classification.py:1437: UndefinedMetricWarning: Precision and F-score are ill-defined and being set to 0.0 in labels with no predicted samples.\n",
      "  'precision', 'predicted', average, warn_for)\n"
     ]
    }
   ],
   "source": [
    "#Results\n",
    "print(\"========== Ada Boost Results ==========\\n\")\n",
    "result(ab_random)"
   ]
  }
 ],
 "metadata": {
  "kernelspec": {
   "display_name": "Python 3",
   "language": "python",
   "name": "python3"
  },
  "language_info": {
   "codemirror_mode": {
    "name": "ipython",
    "version": 3
   },
   "file_extension": ".py",
   "mimetype": "text/x-python",
   "name": "python",
   "nbconvert_exporter": "python",
   "pygments_lexer": "ipython3",
   "version": "3.7.4"
  }
 },
 "nbformat": 4,
 "nbformat_minor": 2
}

{
 "cells": [
  {
   "cell_type": "code",
   "execution_count": 7,
   "metadata": {},
   "outputs": [],
   "source": [
    "#Loading the libraries\n",
    "import pandas as pd\n",
    "import numpy as np\n",
    "import sklearn\n",
    "from sklearn.model_selection import train_test_split, RandomizedSearchCV\n",
    "from sklearn.ensemble import RandomForestClassifier,AdaBoostClassifier\n",
    "from sklearn.metrics import accuracy_score, confusion_matrix, classification_report\n",
    "from sklearn.neighbors import KNeighborsClassifier\n",
    "from sklearn.preprocessing import StandardScaler\n",
    "from random import randint\n",
    "import scipy.stats"
   ]
  },
  {
   "cell_type": "code",
   "execution_count": 3,
   "metadata": {},
   "outputs": [],
   "source": [
    "#Data Loading\n",
    "toronto_data=pd.read_csv(\"Toronto_2014to2019.csv\")"
   ]
  },
  {
   "cell_type": "code",
   "execution_count": 3,
   "metadata": {},
   "outputs": [],
   "source": [
    "#Data Processing\n",
    "col_list = ['X','Y','Long','Lat','occurrenceyear','occurrencemonth','occurrenceday','occurrencedayofyear','occurrencedayofweek',\\\n",
    "            'occurrencehour','MCI','Division','Hood_ID','premisetype']\n",
    "toronto_data=toronto_data[col_list]\n",
    "toronto_data=toronto_data.dropna(subset=['occurrenceyear'])\n",
    "crime_var=pd.factorize(toronto_data[\"MCI\"])\n",
    "toronto_data['MCI'] = crime_var[0]\n",
    "definition_list_MCI = crime_var[1]\n",
    "toronto_data['premisetype'] = pd.factorize(toronto_data['premisetype'])[0]\n",
    "toronto_data['occurrencedayofweek'] = pd.factorize(toronto_data['occurrencedayofweek'])[0]\n",
    "toronto_data['Division'] = pd.factorize(toronto_data['Division'])[0]\n",
    "toronto_data['occurrencemonth'] = pd.factorize(toronto_data['occurrencemonth'])[0]"
   ]
  },
  {
   "cell_type": "code",
   "execution_count": 5,
   "metadata": {},
   "outputs": [],
   "source": [
    "#Splitting Data\n",
    "X=toronto_data.drop(['MCI'],axis=1).values\n",
    "y=toronto_data['MCI'].values\n",
    "\n",
    "X_train, X_test, y_train, y_test = train_test_split(X, y, test_size = 0.20, random_state = 0)"
   ]
  },
  {
   "cell_type": "code",
   "execution_count": 5,
   "metadata": {},
   "outputs": [],
   "source": [
    "def result(classifier_random):\n",
    "    y_pred = classifier_random.best_estimator_.predict(X_test)\n",
    "    print(\"Training score:\"+str(accuracy_score(y_train,classifier_random.best_estimator_.predict(X_train))))\n",
    "    print(\"Testing score:\"+str(accuracy_score(y_test,y_pred)))\n",
    "    print(confusion_matrix(y_test,y_pred))\n",
    "    print(classification_report(y_test,y_pred, target_names=definition_list_MCI))"
   ]
  },
  {
   "cell_type": "code",
   "execution_count": null,
   "metadata": {},
   "outputs": [
    {
     "name": "stdout",
     "output_type": "stream",
     "text": [
      "Fitting 3 folds for each of 50 candidates, totalling 150 fits\n"
     ]
    },
    {
     "name": "stderr",
     "output_type": "stream",
     "text": [
      "[Parallel(n_jobs=-1)]: Using backend LokyBackend with 8 concurrent workers.\n",
      "[Parallel(n_jobs=-1)]: Done  25 tasks      | elapsed: 37.6min\n"
     ]
    }
   ],
   "source": [
    "#RandomForest\n",
    "rf_classifier = RandomForestClassifier()\n",
    "# rf_classifier.fit(X_train, y_train.values.ravel())\n",
    "# y_pred = rf_classifier.predict(X_test)\n",
    "\n",
    "#Hyper parameters\n",
    "params_rf={\n",
    "    'min_samples_leaf': [int(x) for x in np.linspace(start = 1, stop = 3, num = 3)],\n",
    "    'n_estimators': [int(x) for x in np.linspace(start = 10, stop = 500, num = 10)],\n",
    "    'max_features': [int(x) for x in np.linspace(start = 1, stop = 8, num = 8)],\n",
    "    'bootstrap': [True, False],\n",
    "    'criterion': ['gini','entropy'],\n",
    "}\n",
    "\n",
    "rf_random = RandomizedSearchCV(estimator = rf_classifier, param_distributions = params_rf, n_iter = 50, cv = 3, \n",
    "                               verbose=2, random_state=0, n_jobs = -1)\n",
    "rf_random.fit(X_train,y_train)"
   ]
  },
  {
   "cell_type": "code",
   "execution_count": 10,
   "metadata": {},
   "outputs": [
    {
     "name": "stdout",
     "output_type": "stream",
     "text": [
      "Training score:0.9825317989097516\n",
      "Testing score:0.6540846981296637\n",
      "[[19390  1597   519    27   771]\n",
      " [ 4004  4253    38    47   215]\n",
      " [ 2376   226  1457     3   310]\n",
      " [  929   249    36    26   123]\n",
      " [ 2144   456   191    17  1872]]\n",
      "                 precision    recall  f1-score   support\n",
      "\n",
      "        Assault       0.67      0.87      0.76     22304\n",
      "Break and Enter       0.63      0.50      0.55      8557\n",
      "        Robbery       0.65      0.33      0.44      4372\n",
      "     Theft Over       0.22      0.02      0.04      1363\n",
      "     Auto Theft       0.57      0.40      0.47      4680\n",
      "\n",
      "       accuracy                           0.65     41276\n",
      "      macro avg       0.55      0.42      0.45     41276\n",
      "   weighted avg       0.63      0.65      0.63     41276\n",
      "\n"
     ]
    }
   ],
   "source": [
    "#Results\n",
    "result(rf_random)"
   ]
  },
  {
   "cell_type": "code",
   "execution_count": 12,
   "metadata": {},
   "outputs": [
    {
     "name": "stdout",
     "output_type": "stream",
     "text": [
      "Fitting 3 folds for each of 50 candidates, totalling 150 fits\n"
     ]
    },
    {
     "name": "stderr",
     "output_type": "stream",
     "text": [
      "[Parallel(n_jobs=-1)]: Using backend LokyBackend with 8 concurrent workers.\n",
      "[Parallel(n_jobs=-1)]: Done  25 tasks      | elapsed: 11.5min\n",
      "[Parallel(n_jobs=-1)]: Done 150 out of 150 | elapsed: 49.4min finished\n"
     ]
    }
   ],
   "source": [
    "#knn\n",
    "knn_classifier=KNeighborsClassifier()\n",
    "# knn_classifier.fit(X_train,y_train.values.ravel())\n",
    "# y_pred=knn_classifier.predict(X_test)\n",
    "\n",
    "#Hyperparameters\n",
    "params_knn={\n",
    "    'n_neighbors': [int(x) for x in np.linspace(start = 1, stop = 10, num = 10)],\n",
    "    'weights': ['uniform', 'distance'],\n",
    "    'algorithm': ['auto', 'ball_tree', 'kd_tree', 'brute'],\n",
    "}\n",
    "\n",
    "knn_random = RandomizedSearchCV(estimator = knn_classifier, param_distributions = params_knn, n_iter = 50, cv = 3, \n",
    "                               verbose=2, random_state=0, n_jobs = -1)\n",
    "knn_random.fit(X_train,y_train);"
   ]
  },
  {
   "cell_type": "code",
   "execution_count": 13,
   "metadata": {},
   "outputs": [
    {
     "name": "stdout",
     "output_type": "stream",
     "text": [
      "Training score:0.9858509993943064\n",
      "Testing score:0.5804583777497819\n",
      "[[19065  1873   688    36   642]\n",
      " [ 5695  2341   174    56   291]\n",
      " [ 2535   297  1355     3   182]\n",
      " [ 1048   185    39    19    72]\n",
      " [ 2855   447   187    12  1179]]\n",
      "                 precision    recall  f1-score   support\n",
      "\n",
      "        Assault       0.61      0.85      0.71     22304\n",
      "Break and Enter       0.46      0.27      0.34      8557\n",
      "        Robbery       0.55      0.31      0.40      4372\n",
      "     Theft Over       0.15      0.01      0.03      1363\n",
      "     Auto Theft       0.50      0.25      0.33      4680\n",
      "\n",
      "       accuracy                           0.58     41276\n",
      "      macro avg       0.45      0.34      0.36     41276\n",
      "   weighted avg       0.54      0.58      0.54     41276\n",
      "\n"
     ]
    }
   ],
   "source": [
    "#Results\n",
    "result(knn_random)"
   ]
  },
  {
   "cell_type": "code",
   "execution_count": 15,
   "metadata": {},
   "outputs": [
    {
     "name": "stdout",
     "output_type": "stream",
     "text": [
      "Fitting 3 folds for each of 50 candidates, totalling 150 fits\n"
     ]
    },
    {
     "name": "stderr",
     "output_type": "stream",
     "text": [
      "[Parallel(n_jobs=-1)]: Using backend LokyBackend with 8 concurrent workers.\n",
      "[Parallel(n_jobs=-1)]: Done  25 tasks      | elapsed:  3.2min\n",
      "[Parallel(n_jobs=-1)]: Done 150 out of 150 | elapsed: 19.8min finished\n"
     ]
    }
   ],
   "source": [
    "#AdaBoost\n",
    "ab_classifier = AdaBoostClassifier()\n",
    "# ab_classifier.fit(X_train, y_train.values.ravel())\n",
    "# y_pred = ab_classifier.predict(X_test)\n",
    "\n",
    "#Hyperparameters\n",
    "params_ab={\n",
    "    'n_estimators': [int(x) for x in np.linspace(start = 10, stop = 500, num = 10)],\n",
    "    'learning_rate': scipy.stats.reciprocal(0.01, 1.0),\n",
    "    'algorithm': ['SAMME.R', 'SAMME'],\n",
    "    'random_state': [int(x) for x in np.linspace(start = 1, stop = 10, num = 10)]\n",
    "}\n",
    "\n",
    "ab_random = RandomizedSearchCV(estimator = ab_classifier, param_distributions = params_ab, n_iter = 50, cv = 3, \n",
    "                               verbose=2, random_state=0, n_jobs = -1)\n",
    "ab_random.fit(X_train,y_train);"
   ]
  },
  {
   "cell_type": "code",
   "execution_count": 16,
   "metadata": {},
   "outputs": [
    {
     "name": "stdout",
     "output_type": "stream",
     "text": [
      "Training score:0.5771653543307087\n",
      "Testing score:0.5776964822172691\n",
      "[[19508  2032     7     0   757]\n",
      " [ 5216  3282     0     0    59]\n",
      " [ 3661   300     7     0   404]\n",
      " [ 1061   224     0     0    78]\n",
      " [ 2772   858     2     0  1048]]\n",
      "                 precision    recall  f1-score   support\n",
      "\n",
      "        Assault       0.61      0.87      0.72     22304\n",
      "Break and Enter       0.49      0.38      0.43      8557\n",
      "        Robbery       0.44      0.00      0.00      4372\n",
      "     Theft Over       0.00      0.00      0.00      1363\n",
      "     Auto Theft       0.45      0.22      0.30      4680\n",
      "\n",
      "       accuracy                           0.58     41276\n",
      "      macro avg       0.40      0.30      0.29     41276\n",
      "   weighted avg       0.53      0.58      0.51     41276\n",
      "\n"
     ]
    },
    {
     "name": "stderr",
     "output_type": "stream",
     "text": [
      "C:\\Users\\Sai Krishna\\Anaconda3\\lib\\site-packages\\sklearn\\metrics\\classification.py:1437: UndefinedMetricWarning: Precision and F-score are ill-defined and being set to 0.0 in labels with no predicted samples.\n",
      "  'precision', 'predicted', average, warn_for)\n"
     ]
    }
   ],
   "source": [
    "#Results\n",
    "result(ab_random)"
   ]
  }
 ],
 "metadata": {
  "kernelspec": {
   "display_name": "Python 3",
   "language": "python",
   "name": "python3"
  },
  "language_info": {
   "codemirror_mode": {
    "name": "ipython",
    "version": 3
   },
   "file_extension": ".py",
   "mimetype": "text/x-python",
   "name": "python",
   "nbconvert_exporter": "python",
   "pygments_lexer": "ipython3",
   "version": "3.8.3"
  }
 },
 "nbformat": 4,
 "nbformat_minor": 2
}

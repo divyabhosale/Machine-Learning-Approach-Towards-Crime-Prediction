{
 "cells": [
  {
   "cell_type": "code",
   "execution_count": 1,
   "metadata": {},
   "outputs": [],
   "source": [
    "#Loading the libraries\n",
    "import pandas as pd\n",
    "import numpy as np\n",
    "import sklearn\n",
    "from sklearn.model_selection import train_test_split, RandomizedSearchCV\n",
    "from sklearn.ensemble import RandomForestClassifier,AdaBoostClassifier\n",
    "from sklearn.metrics import accuracy_score, confusion_matrix, classification_report\n",
    "from sklearn.neighbors import KNeighborsClassifier\n",
    "from sklearn.preprocessing import StandardScaler\n",
    "from random import randint\n",
    "import scipy.stats"
   ]
  },
  {
   "cell_type": "code",
   "execution_count": 2,
   "metadata": {},
   "outputs": [],
   "source": [
    "#Data Loading\n",
    "toronto_data=pd.read_csv(\"Toronto_2014to2019.csv\")\n",
    "montreal_data=pd.read_csv(\"Montreal_2015toOct2020.csv\",encoding='latin_1')"
   ]
  },
  {
   "cell_type": "code",
   "execution_count": 4,
   "metadata": {},
   "outputs": [],
   "source": [
    "#Toronto Data Processing for comparison\n",
    "col_list = ['X','Y','Long','Lat','occurrenceyear','occurrencemonth','occurrenceday',\\\n",
    "            'occurrencehour','MCI','Hood_ID']\n",
    "toronto_data=toronto_data[col_list]\n",
    "toronto_data=toronto_data.dropna(subset=['occurrenceyear'])\n",
    "crime_var=pd.factorize(toronto_data[\"MCI\"])\n",
    "toronto_data['MCI'] = crime_var[0]\n",
    "definition_list_MCI = crime_var[1]\n",
    "toronto_data['occurrencemonth'] = pd.factorize(toronto_data['occurrencemonth'])[0]"
   ]
  },
  {
   "cell_type": "code",
   "execution_count": 5,
   "metadata": {},
   "outputs": [],
   "source": [
    "#Montreal Data Processing for comparison\n",
    "montreal_data.rename(columns={\"CATEGORIE\":\"OFFENCE\",\"QUART\":\"OCCURENCETIME\"},inplace=True)\n",
    "montreal_data = montreal_data.dropna(how='any',axis=0) \n",
    "\n",
    "offence_factorize=pd.factorize(montreal_data[\"OFFENCE\"])\n",
    "montreal_data[\"OFFENCE\"]=offence_factorize[0]\n",
    "offence_list_names=offence_factorize[1]\n",
    "montreal_data[\"OCCURENCETIME\"]=pd.factorize(montreal_data[\"OCCURENCETIME\"])[0]\n",
    "\n",
    "montreal_data[\"PDQ\"]=montreal_data[\"PDQ\"].astype(np.int32)\n",
    "montreal_data[[\"OCCURENCEYEAR\",\"OCCURENCEMONTH\",\"OCCURENCEDATE\"]]=montreal_data.DATE.str.split(\"-\", expand=True)"
   ]
  },
  {
   "cell_type": "code",
   "execution_count": 6,
   "metadata": {},
   "outputs": [],
   "source": [
    "#Splitting Toronto Data\n",
    "X_tor=toronto_data.drop(['MCI'],axis=1).values\n",
    "y_tor=toronto_data['MCI'].values\n",
    "X_train_tor, X_test_tor, y_train_tor, y_test_tor = train_test_split(X_tor, y_tor, test_size = 0.20, random_state = 0)"
   ]
  },
  {
   "cell_type": "code",
   "execution_count": 7,
   "metadata": {},
   "outputs": [],
   "source": [
    "#Splitting Montreal data\n",
    "X_mon=montreal_data[[\"X\",\"Y\",\"OCCURENCEYEAR\",\"OCCURENCEMONTH\",\"OCCURENCEDATE\",\"OCCURENCETIME\",\"LATITUDE\",\"LONGITUDE\",\"PDQ\"]]\n",
    "y_mon=montreal_data[[\"OFFENCE\"]]\n",
    "X_train_mon, X_test_mon, y_train_mon, y_test_mon = train_test_split(X_mon, y_mon, test_size=0.20, random_state=0)"
   ]
  },
  {
   "cell_type": "code",
   "execution_count": 8,
   "metadata": {},
   "outputs": [],
   "source": [
    "def runRandomForest(X_train,y_train,X_test,y_test):\n",
    "    clfRF = RandomForestClassifier(random_state=0, criterion='entropy')\n",
    "    clfRF.fit(X_train,y_train)\n",
    "    y_pred_train = clfRF.predict(X_train)\n",
    "    y_pred_test = clfRF.predict(X_test)\n",
    "    train_accuracy = sklearn.metrics.accuracy_score(y_train, y_pred_train)\n",
    "    test_accuracy = sklearn.metrics.accuracy_score(y_test, y_pred_test)\n",
    "    print(\" Random Forest Training Accuracy -> \",train_accuracy*100)\n",
    "    print(\" Random Forest Testing Accuracy -> \",test_accuracy*100)"
   ]
  },
  {
   "cell_type": "code",
   "execution_count": null,
   "metadata": {},
   "outputs": [],
   "source": [
    "#RandomForest on Toronto\n",
    "runRandomForest(X_train_tor,y_train_tor,X_test_tor,y_test_tor)"
   ]
  },
  {
   "cell_type": "code",
   "execution_count": null,
   "metadata": {},
   "outputs": [],
   "source": [
    "#RandomForest on Montreal\n",
    "runRandomForest(X_train_mon,y_train_mon,X_test_mon,y_test_mon)"
   ]
  },
  {
   "cell_type": "code",
   "execution_count": null,
   "metadata": {},
   "outputs": [],
   "source": [
    "def randomSearchCV(X_train,y_train,,X_test,y_test,maxFeatures):\n",
    "    rf_classifier = RandomForestClassifier()\n",
    "    #Hyper parameters\n",
    "    params_rf={\n",
    "        'min_samples_leaf': [int(x) for x in np.linspace(start = 1, stop = 3, num = 3)],\n",
    "        'n_estimators': [int(x) for x in np.linspace(start = 10, stop = 500, num = 10)],\n",
    "        'max_features': [int(x) for x in np.linspace(start = 1, stop = maxFeatures, num = maxFeatures)],\n",
    "        'bootstrap': [True, False],\n",
    "        'criterion': ['gini','entropy'],\n",
    "    }\n",
    "\n",
    "    rf_random = RandomizedSearchCV(estimator = rf_classifier, param_distributions = params_rf, n_iter = 50, cv = 3, \n",
    "                                   verbose=2, random_state=0, n_jobs = -1)\n",
    "    rf_random.fit(X_train,y_train)\n",
    "    y_pred = rf_classifier.best_estimator_.predict(X_test)\n",
    "    print(\"Training score:\"+str(accuracy_score(y_train,classifier_random.best_estimator_.predict(X_train))))\n",
    "    print(\"Testing score:\"+str(accuracy_score(y_test,y_pred)))\n",
    "    print(confusion_matrix(y_test,y_pred))\n",
    "    print(classification_report(y_test,y_pred, target_names=offence_list_names))"
   ]
  },
  {
   "cell_type": "code",
   "execution_count": null,
   "metadata": {},
   "outputs": [],
   "source": [
    "#RandomForest on Toronto\n",
    "randomSearchCV(X_train_tor,y_train_tor,X_test_tor,y_test_tor,9)"
   ]
  },
  {
   "cell_type": "code",
   "execution_count": null,
   "metadata": {},
   "outputs": [],
   "source": [
    "#RandomForest on Montreal\n",
    "runRandomForest(X_train_mon,y_train_mon,X_test_mon,y_test_mon,9)"
   ]
  }
 ],
 "metadata": {
  "kernelspec": {
   "display_name": "Python 3",
   "language": "python",
   "name": "python3"
  },
  "language_info": {
   "codemirror_mode": {
    "name": "ipython",
    "version": 3
   },
   "file_extension": ".py",
   "mimetype": "text/x-python",
   "name": "python",
   "nbconvert_exporter": "python",
   "pygments_lexer": "ipython3",
   "version": "3.8.3"
  }
 },
 "nbformat": 4,
 "nbformat_minor": 4
}

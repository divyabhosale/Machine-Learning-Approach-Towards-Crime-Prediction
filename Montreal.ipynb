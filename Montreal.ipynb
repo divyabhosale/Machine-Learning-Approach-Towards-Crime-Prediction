{
  "nbformat": 4,
  "nbformat_minor": 0,
  "metadata": {
    "colab": {
      "name": "Montreal.ipynb",
      "provenance": [],
      "collapsed_sections": []
    },
    "kernelspec": {
      "name": "python3",
      "display_name": "Python 3"
    }
  },
  "cells": [
    {
      "cell_type": "code",
      "metadata": {
        "id": "4-ZZ7DSTXIO9",
        "outputId": "394a8437-12c9-4643-a1be-2299a52a7aa4",
        "colab": {
          "base_uri": "https://localhost:8080/"
        }
      },
      "source": [
        "!pip install apyori\n",
        "import numpy as np\n",
        "import matplotlib.pyplot as plt\n",
        "import sklearn\n",
        "import pandas as pd\n",
        "from apyori import apriori\n",
        "from itertools import combinations\n",
        "from operator import itemgetter\n",
        "from sklearn.model_selection import train_test_split\n",
        "from sklearn.preprocessing import OneHotEncoder\n",
        "from sklearn.ensemble import RandomForestClassifier\n",
        "from sklearn.ensemble import GradientBoostingClassifier\n",
        "from sklearn.metrics import confusion_matrix, classification_report, accuracy_score"
      ],
      "execution_count": 1,
      "outputs": [
        {
          "output_type": "stream",
          "text": [
            "Collecting apyori\n",
            "  Downloading https://files.pythonhosted.org/packages/5e/62/5ffde5c473ea4b033490617ec5caa80d59804875ad3c3c57c0976533a21a/apyori-1.1.2.tar.gz\n",
            "Building wheels for collected packages: apyori\n",
            "  Building wheel for apyori (setup.py) ... \u001b[?25l\u001b[?25hdone\n",
            "  Created wheel for apyori: filename=apyori-1.1.2-cp36-none-any.whl size=5975 sha256=91ba608c633939663455d8095f6ca98ace85278e3fe26a867f433f86784a325b\n",
            "  Stored in directory: /root/.cache/pip/wheels/5d/92/bb/474bbadbc8c0062b9eb168f69982a0443263f8ab1711a8cad0\n",
            "Successfully built apyori\n",
            "Installing collected packages: apyori\n",
            "Successfully installed apyori-1.1.2\n"
          ],
          "name": "stdout"
        }
      ]
    },
    {
      "cell_type": "code",
      "metadata": {
        "id": "TI4Vfht_XUlD",
        "outputId": "50b06f69-b027-410b-9c5a-9e1db547ce4a",
        "colab": {
          "base_uri": "https://localhost:8080/"
        }
      },
      "source": [
        "%cd 'drive/My Drive/Colab Notebooks/ML TOR'\n",
        "!pwd"
      ],
      "execution_count": 2,
      "outputs": [
        {
          "output_type": "stream",
          "text": [
            "/content/drive/My Drive/Colab Notebooks/ML TOR\n",
            "/content/drive/My Drive/Colab Notebooks/ML TOR\n"
          ],
          "name": "stdout"
        }
      ]
    },
    {
      "cell_type": "code",
      "metadata": {
        "id": "KtSwj57kYWBN"
      },
      "source": [
        "df = pd.read_csv( 'MontrealData.csv',encoding='latin-1')"
      ],
      "execution_count": 3,
      "outputs": []
    },
    {
      "cell_type": "markdown",
      "metadata": {
        "id": "hLptsnBRXXR4"
      },
      "source": [
        "# New Section"
      ]
    },
    {
      "cell_type": "code",
      "metadata": {
        "id": "9BSCMuxuaTkR",
        "outputId": "5d01d1a7-4580-43b0-9ca1-82dc4ce9195d",
        "colab": {
          "base_uri": "https://localhost:8080/",
          "height": 194
        }
      },
      "source": [
        "df.head()"
      ],
      "execution_count": 4,
      "outputs": [
        {
          "output_type": "execute_result",
          "data": {
            "text/html": [
              "<div>\n",
              "<style scoped>\n",
              "    .dataframe tbody tr th:only-of-type {\n",
              "        vertical-align: middle;\n",
              "    }\n",
              "\n",
              "    .dataframe tbody tr th {\n",
              "        vertical-align: top;\n",
              "    }\n",
              "\n",
              "    .dataframe thead th {\n",
              "        text-align: right;\n",
              "    }\n",
              "</style>\n",
              "<table border=\"1\" class=\"dataframe\">\n",
              "  <thead>\n",
              "    <tr style=\"text-align: right;\">\n",
              "      <th></th>\n",
              "      <th>CATEGORIE</th>\n",
              "      <th>DATE</th>\n",
              "      <th>QUART</th>\n",
              "      <th>PDQ</th>\n",
              "      <th>X</th>\n",
              "      <th>Y</th>\n",
              "      <th>LONGITUDE</th>\n",
              "      <th>LATITUDE</th>\n",
              "    </tr>\n",
              "  </thead>\n",
              "  <tbody>\n",
              "    <tr>\n",
              "      <th>0</th>\n",
              "      <td>Vol de véhicule à moteur</td>\n",
              "      <td>2018-09-13</td>\n",
              "      <td>jour</td>\n",
              "      <td>30.0</td>\n",
              "      <td>294904.159001</td>\n",
              "      <td>5.047549e+06</td>\n",
              "      <td>-73.626778</td>\n",
              "      <td>45.567780</td>\n",
              "    </tr>\n",
              "    <tr>\n",
              "      <th>1</th>\n",
              "      <td>Vol de véhicule à moteur</td>\n",
              "      <td>2018-04-30</td>\n",
              "      <td>jour</td>\n",
              "      <td>30.0</td>\n",
              "      <td>294904.159001</td>\n",
              "      <td>5.047549e+06</td>\n",
              "      <td>-73.626778</td>\n",
              "      <td>45.567780</td>\n",
              "    </tr>\n",
              "    <tr>\n",
              "      <th>2</th>\n",
              "      <td>Vol de véhicule à moteur</td>\n",
              "      <td>2018-09-01</td>\n",
              "      <td>nuit</td>\n",
              "      <td>7.0</td>\n",
              "      <td>290274.565000</td>\n",
              "      <td>5.042150e+06</td>\n",
              "      <td>-73.685928</td>\n",
              "      <td>45.519122</td>\n",
              "    </tr>\n",
              "    <tr>\n",
              "      <th>3</th>\n",
              "      <td>Méfait</td>\n",
              "      <td>2017-07-21</td>\n",
              "      <td>jour</td>\n",
              "      <td>21.0</td>\n",
              "      <td>0.000000</td>\n",
              "      <td>0.000000e+00</td>\n",
              "      <td>1.000000</td>\n",
              "      <td>1.000000</td>\n",
              "    </tr>\n",
              "    <tr>\n",
              "      <th>4</th>\n",
              "      <td>Méfait</td>\n",
              "      <td>2017-07-29</td>\n",
              "      <td>jour</td>\n",
              "      <td>12.0</td>\n",
              "      <td>0.000000</td>\n",
              "      <td>0.000000e+00</td>\n",
              "      <td>1.000000</td>\n",
              "      <td>1.000000</td>\n",
              "    </tr>\n",
              "  </tbody>\n",
              "</table>\n",
              "</div>"
            ],
            "text/plain": [
              "                  CATEGORIE        DATE  ...  LONGITUDE   LATITUDE\n",
              "0  Vol de véhicule à moteur  2018-09-13  ... -73.626778  45.567780\n",
              "1  Vol de véhicule à moteur  2018-04-30  ... -73.626778  45.567780\n",
              "2  Vol de véhicule à moteur  2018-09-01  ... -73.685928  45.519122\n",
              "3                    Méfait  2017-07-21  ...   1.000000   1.000000\n",
              "4                    Méfait  2017-07-29  ...   1.000000   1.000000\n",
              "\n",
              "[5 rows x 8 columns]"
            ]
          },
          "metadata": {
            "tags": []
          },
          "execution_count": 4
        }
      ]
    },
    {
      "cell_type": "code",
      "metadata": {
        "id": "NUkmbS2b5GF3",
        "outputId": "a018b41d-2ae6-414c-d0b9-7d33430e5e34",
        "colab": {
          "base_uri": "https://localhost:8080/",
          "height": 194
        }
      },
      "source": [
        "df_pdq = pd.read_csv( 'pdq_point.csv',encoding='latin-1')\n",
        "df_pdq.head()"
      ],
      "execution_count": 5,
      "outputs": [
        {
          "output_type": "execute_result",
          "data": {
            "text/html": [
              "<div>\n",
              "<style scoped>\n",
              "    .dataframe tbody tr th:only-of-type {\n",
              "        vertical-align: middle;\n",
              "    }\n",
              "\n",
              "    .dataframe tbody tr th {\n",
              "        vertical-align: top;\n",
              "    }\n",
              "\n",
              "    .dataframe thead th {\n",
              "        text-align: right;\n",
              "    }\n",
              "</style>\n",
              "<table border=\"1\" class=\"dataframe\">\n",
              "  <thead>\n",
              "    <tr style=\"text-align: right;\">\n",
              "      <th></th>\n",
              "      <th>NO_CIV_LIE</th>\n",
              "      <th>PREFIX_TEM</th>\n",
              "      <th>NOM_TEMP</th>\n",
              "      <th>DIR_TEMP</th>\n",
              "      <th>MUN_TEMP</th>\n",
              "      <th>DESC_LIEU</th>\n",
              "      <th>Longitude</th>\n",
              "      <th>Latitude</th>\n",
              "    </tr>\n",
              "  </thead>\n",
              "  <tbody>\n",
              "    <tr>\n",
              "      <th>0</th>\n",
              "      <td>4139</td>\n",
              "      <td>BOUL</td>\n",
              "      <td>SOURCES DES</td>\n",
              "      <td>NaN</td>\n",
              "      <td>DDO</td>\n",
              "      <td>POSTE DE QUARTIER 4</td>\n",
              "      <td>-73.807304</td>\n",
              "      <td>45.494380</td>\n",
              "    </tr>\n",
              "    <tr>\n",
              "      <th>1</th>\n",
              "      <td>8930</td>\n",
              "      <td>BOUL</td>\n",
              "      <td>PIE-IX</td>\n",
              "      <td>NaN</td>\n",
              "      <td>MTL</td>\n",
              "      <td>POSTE DE QUARTIER 30</td>\n",
              "      <td>-73.617433</td>\n",
              "      <td>45.577744</td>\n",
              "    </tr>\n",
              "    <tr>\n",
              "      <th>2</th>\n",
              "      <td>4555</td>\n",
              "      <td>RUE</td>\n",
              "      <td>HOCHELAGA</td>\n",
              "      <td>NaN</td>\n",
              "      <td>MTL</td>\n",
              "      <td>POSTE DE QUARTIER 23</td>\n",
              "      <td>-73.545915</td>\n",
              "      <td>45.556866</td>\n",
              "    </tr>\n",
              "    <tr>\n",
              "      <th>3</th>\n",
              "      <td>11756</td>\n",
              "      <td>BOUL</td>\n",
              "      <td>O'BRIEN</td>\n",
              "      <td>NaN</td>\n",
              "      <td>MTL</td>\n",
              "      <td>POSTE DE QUARTIER 10</td>\n",
              "      <td>-73.701029</td>\n",
              "      <td>45.528543</td>\n",
              "    </tr>\n",
              "    <tr>\n",
              "      <th>4</th>\n",
              "      <td>1435</td>\n",
              "      <td>AVEN</td>\n",
              "      <td>VAN-HORNE</td>\n",
              "      <td>NaN</td>\n",
              "      <td>OUT</td>\n",
              "      <td>POSTE DE QUARTIER 24</td>\n",
              "      <td>-73.615612</td>\n",
              "      <td>45.520110</td>\n",
              "    </tr>\n",
              "  </tbody>\n",
              "</table>\n",
              "</div>"
            ],
            "text/plain": [
              "   NO_CIV_LIE PREFIX_TEM  ...  Longitude   Latitude\n",
              "0        4139       BOUL  ... -73.807304  45.494380\n",
              "1        8930       BOUL  ... -73.617433  45.577744\n",
              "2        4555        RUE  ... -73.545915  45.556866\n",
              "3       11756       BOUL  ... -73.701029  45.528543\n",
              "4        1435       AVEN  ... -73.615612  45.520110\n",
              "\n",
              "[5 rows x 8 columns]"
            ]
          },
          "metadata": {
            "tags": []
          },
          "execution_count": 5
        }
      ]
    },
    {
      "cell_type": "code",
      "metadata": {
        "id": "h3UCbinW5osC",
        "outputId": "56a56fd1-0ea4-4f8c-9c46-050bf706b648",
        "colab": {
          "base_uri": "https://localhost:8080/",
          "height": 278
        }
      },
      "source": [
        "df = df[df['CATEGORIE'].notna()]\n",
        "df_pdq[['temp','PDQNo']] = df_pdq.DESC_LIEU.str.split('QUARTIER', expand = True)\n",
        "df_pdq['PDQ'] = df_pdq['PDQNo'].astype(np.float64)\n",
        "pd.to_numeric(df_pdq['PDQ'])\n",
        "cols =['PDQ']\n",
        "df_merge = pd.merge(df ,df_pdq,on =cols)\n",
        "df_merge.head()"
      ],
      "execution_count": 6,
      "outputs": [
        {
          "output_type": "execute_result",
          "data": {
            "text/html": [
              "<div>\n",
              "<style scoped>\n",
              "    .dataframe tbody tr th:only-of-type {\n",
              "        vertical-align: middle;\n",
              "    }\n",
              "\n",
              "    .dataframe tbody tr th {\n",
              "        vertical-align: top;\n",
              "    }\n",
              "\n",
              "    .dataframe thead th {\n",
              "        text-align: right;\n",
              "    }\n",
              "</style>\n",
              "<table border=\"1\" class=\"dataframe\">\n",
              "  <thead>\n",
              "    <tr style=\"text-align: right;\">\n",
              "      <th></th>\n",
              "      <th>CATEGORIE</th>\n",
              "      <th>DATE</th>\n",
              "      <th>QUART</th>\n",
              "      <th>PDQ</th>\n",
              "      <th>X</th>\n",
              "      <th>Y</th>\n",
              "      <th>LONGITUDE</th>\n",
              "      <th>LATITUDE</th>\n",
              "      <th>NO_CIV_LIE</th>\n",
              "      <th>PREFIX_TEM</th>\n",
              "      <th>NOM_TEMP</th>\n",
              "      <th>DIR_TEMP</th>\n",
              "      <th>MUN_TEMP</th>\n",
              "      <th>DESC_LIEU</th>\n",
              "      <th>Longitude</th>\n",
              "      <th>Latitude</th>\n",
              "      <th>temp</th>\n",
              "      <th>PDQNo</th>\n",
              "    </tr>\n",
              "  </thead>\n",
              "  <tbody>\n",
              "    <tr>\n",
              "      <th>0</th>\n",
              "      <td>Vol de véhicule à moteur</td>\n",
              "      <td>2018-09-13</td>\n",
              "      <td>jour</td>\n",
              "      <td>30.0</td>\n",
              "      <td>294904.159001</td>\n",
              "      <td>5.047549e+06</td>\n",
              "      <td>-73.626778</td>\n",
              "      <td>45.567780</td>\n",
              "      <td>8930</td>\n",
              "      <td>BOUL</td>\n",
              "      <td>PIE-IX</td>\n",
              "      <td>NaN</td>\n",
              "      <td>MTL</td>\n",
              "      <td>POSTE DE QUARTIER 30</td>\n",
              "      <td>-73.617433</td>\n",
              "      <td>45.577744</td>\n",
              "      <td>POSTE DE</td>\n",
              "      <td>30</td>\n",
              "    </tr>\n",
              "    <tr>\n",
              "      <th>1</th>\n",
              "      <td>Vol de véhicule à moteur</td>\n",
              "      <td>2018-04-30</td>\n",
              "      <td>jour</td>\n",
              "      <td>30.0</td>\n",
              "      <td>294904.159001</td>\n",
              "      <td>5.047549e+06</td>\n",
              "      <td>-73.626778</td>\n",
              "      <td>45.567780</td>\n",
              "      <td>8930</td>\n",
              "      <td>BOUL</td>\n",
              "      <td>PIE-IX</td>\n",
              "      <td>NaN</td>\n",
              "      <td>MTL</td>\n",
              "      <td>POSTE DE QUARTIER 30</td>\n",
              "      <td>-73.617433</td>\n",
              "      <td>45.577744</td>\n",
              "      <td>POSTE DE</td>\n",
              "      <td>30</td>\n",
              "    </tr>\n",
              "    <tr>\n",
              "      <th>2</th>\n",
              "      <td>Introduction</td>\n",
              "      <td>2018-01-10</td>\n",
              "      <td>jour</td>\n",
              "      <td>30.0</td>\n",
              "      <td>294670.696005</td>\n",
              "      <td>5.047695e+06</td>\n",
              "      <td>-73.629772</td>\n",
              "      <td>45.569087</td>\n",
              "      <td>8930</td>\n",
              "      <td>BOUL</td>\n",
              "      <td>PIE-IX</td>\n",
              "      <td>NaN</td>\n",
              "      <td>MTL</td>\n",
              "      <td>POSTE DE QUARTIER 30</td>\n",
              "      <td>-73.617433</td>\n",
              "      <td>45.577744</td>\n",
              "      <td>POSTE DE</td>\n",
              "      <td>30</td>\n",
              "    </tr>\n",
              "    <tr>\n",
              "      <th>3</th>\n",
              "      <td>Méfait</td>\n",
              "      <td>2018-11-12</td>\n",
              "      <td>soir</td>\n",
              "      <td>30.0</td>\n",
              "      <td>294670.696005</td>\n",
              "      <td>5.047695e+06</td>\n",
              "      <td>-73.629772</td>\n",
              "      <td>45.569087</td>\n",
              "      <td>8930</td>\n",
              "      <td>BOUL</td>\n",
              "      <td>PIE-IX</td>\n",
              "      <td>NaN</td>\n",
              "      <td>MTL</td>\n",
              "      <td>POSTE DE QUARTIER 30</td>\n",
              "      <td>-73.617433</td>\n",
              "      <td>45.577744</td>\n",
              "      <td>POSTE DE</td>\n",
              "      <td>30</td>\n",
              "    </tr>\n",
              "    <tr>\n",
              "      <th>4</th>\n",
              "      <td>Méfait</td>\n",
              "      <td>2018-08-15</td>\n",
              "      <td>jour</td>\n",
              "      <td>30.0</td>\n",
              "      <td>294670.696005</td>\n",
              "      <td>5.047695e+06</td>\n",
              "      <td>-73.629772</td>\n",
              "      <td>45.569087</td>\n",
              "      <td>8930</td>\n",
              "      <td>BOUL</td>\n",
              "      <td>PIE-IX</td>\n",
              "      <td>NaN</td>\n",
              "      <td>MTL</td>\n",
              "      <td>POSTE DE QUARTIER 30</td>\n",
              "      <td>-73.617433</td>\n",
              "      <td>45.577744</td>\n",
              "      <td>POSTE DE</td>\n",
              "      <td>30</td>\n",
              "    </tr>\n",
              "  </tbody>\n",
              "</table>\n",
              "</div>"
            ],
            "text/plain": [
              "                  CATEGORIE        DATE QUART  ...   Latitude       temp  PDQNo\n",
              "0  Vol de véhicule à moteur  2018-09-13  jour  ...  45.577744  POSTE DE      30\n",
              "1  Vol de véhicule à moteur  2018-04-30  jour  ...  45.577744  POSTE DE      30\n",
              "2              Introduction  2018-01-10  jour  ...  45.577744  POSTE DE      30\n",
              "3                    Méfait  2018-11-12  soir  ...  45.577744  POSTE DE      30\n",
              "4                    Méfait  2018-08-15  jour  ...  45.577744  POSTE DE      30\n",
              "\n",
              "[5 rows x 18 columns]"
            ]
          },
          "metadata": {
            "tags": []
          },
          "execution_count": 6
        }
      ]
    },
    {
      "cell_type": "code",
      "metadata": {
        "id": "Sa1yayF7CKJ1"
      },
      "source": [
        ""
      ],
      "execution_count": 6,
      "outputs": []
    },
    {
      "cell_type": "code",
      "metadata": {
        "id": "xT_f12NlajfX",
        "outputId": "a3f71adb-dcb4-4710-e332-05591e202f53",
        "colab": {
          "base_uri": "https://localhost:8080/"
        }
      },
      "source": [
        "# Columns for the models\n",
        "col_list = ['CATEGORIE','QUART','PDQ','X','Y','NO_CIV_LIE',\t'PREFIX_TEM',\t'NOM_TEMP', 'MUN_TEMP', 'LONGITUDE', 'LATITUDE']\n",
        "\n",
        "# New dataframe from columns\n",
        "df2 = df_merge[col_list]\n",
        "df2.dropna()\n",
        "\n",
        "#Factorize dependent variable column:\n",
        "crime_var = pd.factorize(df2['CATEGORIE'])\n",
        "df2['CATEGORIE'] = crime_var[0]\n",
        "definition_list_CATEGORIE = crime_var[1]\n",
        "\n",
        "QUART_var = pd.factorize(df2['QUART'])\n",
        "df2['QUART'] = QUART_var[0]\n",
        "definition_list_QUART = QUART_var[1] \n",
        "\n",
        "PDQ_var = pd.factorize(df2['PDQ'])\n",
        "df2['PDQ'] = PDQ_var[0]\n",
        "definition_list_PDQ = PDQ_var[1] \n",
        "\n",
        "X_var = pd.factorize(df2['X'])\n",
        "df2['X'] = X_var[0]\n",
        "definition_list_X = X_var[1] \n",
        "\n",
        "Y_var = pd.factorize(df2['Y'])\n",
        "df2['Y'] = Y_var[0]\n",
        "definition_list_Y = Y_var[1] \n",
        "\n",
        "NO_CIV_LIE_var = pd.factorize(df2['NO_CIV_LIE'])\n",
        "df2['NO_CIV_LIE'] = NO_CIV_LIE_var[0]\n",
        "definition_list_NO_CIV_LIE = NO_CIV_LIE_var[1] \n",
        "\n",
        "PREFIX_TEM_var = pd.factorize(df2['PREFIX_TEM'])\n",
        "df2['PREFIX_TEM'] =PREFIX_TEM_var[0]\n",
        "definition_list_PREFIX_TEM = PREFIX_TEM_var[1] \n",
        "\n",
        "NOM_TEMP_var = pd.factorize(df2['NOM_TEMP'])\n",
        "df2['NOM_TEMP'] = NOM_TEMP_var[0]\n",
        "definition_list_NOM_TEMP = NOM_TEMP_var[1] \n",
        "\n",
        "LATITUDE_var = pd.factorize(df2['LATITUDE'])\n",
        "df2['LATITUDE'] = LATITUDE_var[0]\n",
        "definition_list_LATITUDE = LATITUDE_var[1]\n",
        "\n",
        "long_var = pd.factorize(df2['LONGITUDE'])\n",
        "df2['LONGITUDE'] = long_var[0]\n",
        "definition_list_long = long_var[1]\n",
        "\n",
        "mun_var = pd.factorize(df2['MUN_TEMP'])\n",
        "df2['MUN_TEMP'] = mun_var[0]\n",
        "definition_list_mun = mun_var[1]\n"
      ],
      "execution_count": 7,
      "outputs": [
        {
          "output_type": "stream",
          "text": [
            "/usr/local/lib/python3.6/dist-packages/ipykernel_launcher.py:10: SettingWithCopyWarning: \n",
            "A value is trying to be set on a copy of a slice from a DataFrame.\n",
            "Try using .loc[row_indexer,col_indexer] = value instead\n",
            "\n",
            "See the caveats in the documentation: https://pandas.pydata.org/pandas-docs/stable/user_guide/indexing.html#returning-a-view-versus-a-copy\n",
            "  # Remove the CWD from sys.path while we load stuff.\n",
            "/usr/local/lib/python3.6/dist-packages/ipykernel_launcher.py:14: SettingWithCopyWarning: \n",
            "A value is trying to be set on a copy of a slice from a DataFrame.\n",
            "Try using .loc[row_indexer,col_indexer] = value instead\n",
            "\n",
            "See the caveats in the documentation: https://pandas.pydata.org/pandas-docs/stable/user_guide/indexing.html#returning-a-view-versus-a-copy\n",
            "  \n",
            "/usr/local/lib/python3.6/dist-packages/ipykernel_launcher.py:18: SettingWithCopyWarning: \n",
            "A value is trying to be set on a copy of a slice from a DataFrame.\n",
            "Try using .loc[row_indexer,col_indexer] = value instead\n",
            "\n",
            "See the caveats in the documentation: https://pandas.pydata.org/pandas-docs/stable/user_guide/indexing.html#returning-a-view-versus-a-copy\n",
            "/usr/local/lib/python3.6/dist-packages/ipykernel_launcher.py:22: SettingWithCopyWarning: \n",
            "A value is trying to be set on a copy of a slice from a DataFrame.\n",
            "Try using .loc[row_indexer,col_indexer] = value instead\n",
            "\n",
            "See the caveats in the documentation: https://pandas.pydata.org/pandas-docs/stable/user_guide/indexing.html#returning-a-view-versus-a-copy\n",
            "/usr/local/lib/python3.6/dist-packages/ipykernel_launcher.py:26: SettingWithCopyWarning: \n",
            "A value is trying to be set on a copy of a slice from a DataFrame.\n",
            "Try using .loc[row_indexer,col_indexer] = value instead\n",
            "\n",
            "See the caveats in the documentation: https://pandas.pydata.org/pandas-docs/stable/user_guide/indexing.html#returning-a-view-versus-a-copy\n",
            "/usr/local/lib/python3.6/dist-packages/ipykernel_launcher.py:30: SettingWithCopyWarning: \n",
            "A value is trying to be set on a copy of a slice from a DataFrame.\n",
            "Try using .loc[row_indexer,col_indexer] = value instead\n",
            "\n",
            "See the caveats in the documentation: https://pandas.pydata.org/pandas-docs/stable/user_guide/indexing.html#returning-a-view-versus-a-copy\n",
            "/usr/local/lib/python3.6/dist-packages/ipykernel_launcher.py:34: SettingWithCopyWarning: \n",
            "A value is trying to be set on a copy of a slice from a DataFrame.\n",
            "Try using .loc[row_indexer,col_indexer] = value instead\n",
            "\n",
            "See the caveats in the documentation: https://pandas.pydata.org/pandas-docs/stable/user_guide/indexing.html#returning-a-view-versus-a-copy\n",
            "/usr/local/lib/python3.6/dist-packages/ipykernel_launcher.py:38: SettingWithCopyWarning: \n",
            "A value is trying to be set on a copy of a slice from a DataFrame.\n",
            "Try using .loc[row_indexer,col_indexer] = value instead\n",
            "\n",
            "See the caveats in the documentation: https://pandas.pydata.org/pandas-docs/stable/user_guide/indexing.html#returning-a-view-versus-a-copy\n",
            "/usr/local/lib/python3.6/dist-packages/ipykernel_launcher.py:42: SettingWithCopyWarning: \n",
            "A value is trying to be set on a copy of a slice from a DataFrame.\n",
            "Try using .loc[row_indexer,col_indexer] = value instead\n",
            "\n",
            "See the caveats in the documentation: https://pandas.pydata.org/pandas-docs/stable/user_guide/indexing.html#returning-a-view-versus-a-copy\n",
            "/usr/local/lib/python3.6/dist-packages/ipykernel_launcher.py:46: SettingWithCopyWarning: \n",
            "A value is trying to be set on a copy of a slice from a DataFrame.\n",
            "Try using .loc[row_indexer,col_indexer] = value instead\n",
            "\n",
            "See the caveats in the documentation: https://pandas.pydata.org/pandas-docs/stable/user_guide/indexing.html#returning-a-view-versus-a-copy\n",
            "/usr/local/lib/python3.6/dist-packages/ipykernel_launcher.py:50: SettingWithCopyWarning: \n",
            "A value is trying to be set on a copy of a slice from a DataFrame.\n",
            "Try using .loc[row_indexer,col_indexer] = value instead\n",
            "\n",
            "See the caveats in the documentation: https://pandas.pydata.org/pandas-docs/stable/user_guide/indexing.html#returning-a-view-versus-a-copy\n"
          ],
          "name": "stderr"
        }
      ]
    },
    {
      "cell_type": "code",
      "metadata": {
        "id": "tNReg0ID8U9j"
      },
      "source": [
        "#set X and Y:\n",
        "X = df2.drop(['CATEGORIE'],axis=1).values\n",
        "y = df2['CATEGORIE'].values\n",
        "\n",
        "#split the data into train and test sets for numeric encoded dataset:\n",
        "X_train, X_test, y_train, y_test = train_test_split(X, y, test_size = 0.20, random_state = 21)\n"
      ],
      "execution_count": 8,
      "outputs": []
    },
    {
      "cell_type": "markdown",
      "metadata": {
        "id": "SlzUHmIrlkvz"
      },
      "source": [
        "# **Random Forest**"
      ]
    },
    {
      "cell_type": "code",
      "metadata": {
        "id": "Z8NEIgcIDkSL",
        "outputId": "165db46c-1858-48db-94df-8ea20f4eb88c",
        "colab": {
          "base_uri": "https://localhost:8080/"
        }
      },
      "source": [
        "#Balanced Class Weight doesn't make a big difference for results:\n",
        "classifier = RandomForestClassifier(n_estimators = 100, criterion = 'entropy', random_state = 40)\n",
        "classifier.fit(X_train, y_train)\n",
        "y_pred = classifier.predict(X_test) \n",
        "y_pred\n",
        "\n",
        "print(\"Accuracy of Random Forest with Balanced class weight: \",accuracy_score(y_test, y_pred))\n"
      ],
      "execution_count": 9,
      "outputs": [
        {
          "output_type": "stream",
          "text": [
            "Accuracy of Random Forest with Balanced class weight:  0.4081726960654872\n"
          ],
          "name": "stdout"
        }
      ]
    },
    {
      "cell_type": "markdown",
      "metadata": {
        "id": "EG1Rs8u5lrcO"
      },
      "source": [
        "# **AdaBoostClassifier**"
      ]
    },
    {
      "cell_type": "code",
      "metadata": {
        "id": "LdIyoOBgGlgc",
        "outputId": "7af0af28-988b-4db3-ce6f-3122d2ad859d",
        "colab": {
          "base_uri": "https://localhost:8080/"
        }
      },
      "source": [
        "from sklearn.ensemble import AdaBoostClassifier\n",
        "# Create adaboost classifer object\n",
        "abc = AdaBoostClassifier(n_estimators=100,learning_rate=0.001)\n",
        "# Train Adaboost Classifer\n",
        "model = abc.fit(X_train, y_train)\n",
        "\n",
        "#Predict the response for test dataset\n",
        "y_pred = model.predict(X_test)\n",
        "y_pred"
      ],
      "execution_count": 10,
      "outputs": [
        {
          "output_type": "execute_result",
          "data": {
            "text/plain": [
              "array([1, 1, 1, ..., 1, 3, 1])"
            ]
          },
          "metadata": {
            "tags": []
          },
          "execution_count": 10
        }
      ]
    },
    {
      "cell_type": "code",
      "metadata": {
        "id": "5ntZSaZCGtxm",
        "outputId": "4bf54179-939e-4ae1-aaac-64ece9c95458",
        "colab": {
          "base_uri": "https://localhost:8080/"
        }
      },
      "source": [
        "print(\"AdaBoostClassifier: \",accuracy_score(y_test, y_pred))"
      ],
      "execution_count": 11,
      "outputs": [
        {
          "output_type": "stream",
          "text": [
            "AdaBoostClassifier:  0.34879191972537626\n"
          ],
          "name": "stdout"
        }
      ]
    },
    {
      "cell_type": "markdown",
      "metadata": {
        "id": "c6JpwQrnlxgk"
      },
      "source": [
        "# **KNeighborsClassifier**"
      ]
    },
    {
      "cell_type": "code",
      "metadata": {
        "id": "4Qj0eiGIG6xd",
        "outputId": "826912db-7ddd-48b8-c1c7-840c359545b2",
        "colab": {
          "base_uri": "https://localhost:8080/"
        }
      },
      "source": [
        "from sklearn.neighbors import KNeighborsClassifier\n",
        "classifier = KNeighborsClassifier(n_neighbors=4)\n",
        "classifier.fit(X_train, y_train)"
      ],
      "execution_count": 12,
      "outputs": [
        {
          "output_type": "execute_result",
          "data": {
            "text/plain": [
              "KNeighborsClassifier(algorithm='auto', leaf_size=30, metric='minkowski',\n",
              "                     metric_params=None, n_jobs=None, n_neighbors=4, p=2,\n",
              "                     weights='uniform')"
            ]
          },
          "metadata": {
            "tags": []
          },
          "execution_count": 12
        }
      ]
    },
    {
      "cell_type": "code",
      "metadata": {
        "id": "2W5QNFgJG9R8",
        "outputId": "d293a24c-6713-413c-c23d-6b08b2668bc4",
        "colab": {
          "base_uri": "https://localhost:8080/"
        }
      },
      "source": [
        "y_pred = classifier.predict(X_test)\n",
        "y_pred"
      ],
      "execution_count": 13,
      "outputs": [
        {
          "output_type": "execute_result",
          "data": {
            "text/plain": [
              "array([0, 1, 0, ..., 3, 3, 1])"
            ]
          },
          "metadata": {
            "tags": []
          },
          "execution_count": 13
        }
      ]
    },
    {
      "cell_type": "code",
      "metadata": {
        "id": "JYUzYEU_HBCu",
        "outputId": "ff975140-cbbf-4d24-f5a5-ab2a3f8c03bb",
        "colab": {
          "base_uri": "https://localhost:8080/"
        }
      },
      "source": [
        "from sklearn.metrics import classification_report, confusion_matrix\n",
        "print(\"Accuracy of KNN: \",accuracy_score(y_test, y_pred))"
      ],
      "execution_count": 14,
      "outputs": [
        {
          "output_type": "stream",
          "text": [
            "Accuracy of KNN:  0.3852653815685239\n"
          ],
          "name": "stdout"
        }
      ]
    },
    {
      "cell_type": "markdown",
      "metadata": {
        "id": "bx5DkC2gl3v1"
      },
      "source": [
        "# **LogisticRegression**"
      ]
    },
    {
      "cell_type": "code",
      "metadata": {
        "id": "s9DsD1e_PSqU",
        "outputId": "3de9f57f-d8c8-45da-db5b-6ea7836af01d",
        "colab": {
          "base_uri": "https://localhost:8080/"
        }
      },
      "source": [
        "lr = sklearn.linear_model.LogisticRegression(multi_class='multinomial',\n",
        "                                             solver='lbfgs', random_state=0)\n",
        "lr.fit(X_train, y_train);\n",
        "y_pred = lr.predict(X_test)\n",
        "y_pred\n",
        "print(\"Accuracy of LR: \",accuracy_score(y_test, y_pred))"
      ],
      "execution_count": 15,
      "outputs": [
        {
          "output_type": "stream",
          "text": [
            "Accuracy of LR:  0.34687747557433324\n"
          ],
          "name": "stdout"
        },
        {
          "output_type": "stream",
          "text": [
            "/usr/local/lib/python3.6/dist-packages/sklearn/linear_model/_logistic.py:940: ConvergenceWarning: lbfgs failed to converge (status=1):\n",
            "STOP: TOTAL NO. of ITERATIONS REACHED LIMIT.\n",
            "\n",
            "Increase the number of iterations (max_iter) or scale the data as shown in:\n",
            "    https://scikit-learn.org/stable/modules/preprocessing.html\n",
            "Please also refer to the documentation for alternative solver options:\n",
            "    https://scikit-learn.org/stable/modules/linear_model.html#logistic-regression\n",
            "  extra_warning_msg=_LOGISTIC_SOLVER_CONVERGENCE_MSG)\n"
          ],
          "name": "stderr"
        }
      ]
    },
    {
      "cell_type": "code",
      "metadata": {
        "id": "Rq5xEg77QLbC"
      },
      "source": [
        ""
      ],
      "execution_count": 15,
      "outputs": []
    }
  ]
}
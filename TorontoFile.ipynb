{
  "nbformat": 4,
  "nbformat_minor": 0,
  "metadata": {
    "colab": {
      "name": "TorontoFile.ipynb",
      "provenance": [],
      "collapsed_sections": [
        "QId3zwPyHncd"
      ]
    },
    "kernelspec": {
      "name": "python3",
      "display_name": "Python 3"
    },
    "accelerator": "GPU"
  },
  "cells": [
    {
      "cell_type": "code",
      "metadata": {
        "id": "RZ1W22xxIUPA",
        "outputId": "012d32be-22a1-476f-c38c-b4fa52dab5d0",
        "colab": {
          "base_uri": "https://localhost:8080/"
        }
      },
      "source": [
        "!pip install apyori\n",
        "import numpy as np\n",
        "import matplotlib.pyplot as plt\n",
        "import sklearn\n",
        "import pandas as pd\n",
        "from apyori import apriori\n",
        "from itertools import combinations\n",
        "from operator import itemgetter\n",
        "from sklearn.model_selection import train_test_split\n",
        "from sklearn.preprocessing import OneHotEncoder\n",
        "from sklearn.ensemble import RandomForestClassifier\n",
        "from sklearn.ensemble import GradientBoostingClassifier\n",
        "from sklearn.metrics import confusion_matrix, classification_report, accuracy_score"
      ],
      "execution_count": 1,
      "outputs": [
        {
          "output_type": "stream",
          "text": [
            "Collecting apyori\n",
            "  Downloading https://files.pythonhosted.org/packages/5e/62/5ffde5c473ea4b033490617ec5caa80d59804875ad3c3c57c0976533a21a/apyori-1.1.2.tar.gz\n",
            "Building wheels for collected packages: apyori\n",
            "  Building wheel for apyori (setup.py) ... \u001b[?25l\u001b[?25hdone\n",
            "  Created wheel for apyori: filename=apyori-1.1.2-cp36-none-any.whl size=5975 sha256=70b31dd6da42e8d5ac8feb493fb5178b523a9809ff9eb260b390e772773baff4\n",
            "  Stored in directory: /root/.cache/pip/wheels/5d/92/bb/474bbadbc8c0062b9eb168f69982a0443263f8ab1711a8cad0\n",
            "Successfully built apyori\n",
            "Installing collected packages: apyori\n",
            "Successfully installed apyori-1.1.2\n"
          ],
          "name": "stdout"
        }
      ]
    },
    {
      "cell_type": "code",
      "metadata": {
        "id": "cZ2Us1O2LwzY",
        "outputId": "ef2a7087-1d8c-4b42-c200-cf03b249e461",
        "colab": {
          "base_uri": "https://localhost:8080/"
        }
      },
      "source": [
        "%cd 'drive/My Drive/Colab Notebooks/ML TOR'\n",
        "!pwd"
      ],
      "execution_count": 2,
      "outputs": [
        {
          "output_type": "stream",
          "text": [
            "/content/drive/My Drive/Colab Notebooks/ML TOR\n",
            "/content/drive/My Drive/Colab Notebooks/ML TOR\n"
          ],
          "name": "stdout"
        }
      ]
    },
    {
      "cell_type": "code",
      "metadata": {
        "id": "tgy3NQWzIhBF"
      },
      "source": [
        "df = pd.read_csv( 'TorontoData.csv')\n"
      ],
      "execution_count": 3,
      "outputs": []
    },
    {
      "cell_type": "code",
      "metadata": {
        "id": "-4U-G62xL7Xh",
        "outputId": "f660d209-a76a-456f-938f-ba82d7f8dcb4",
        "colab": {
          "base_uri": "https://localhost:8080/",
          "height": 366
        }
      },
      "source": [
        "df.head()"
      ],
      "execution_count": 4,
      "outputs": [
        {
          "output_type": "execute_result",
          "data": {
            "text/html": [
              "<div>\n",
              "<style scoped>\n",
              "    .dataframe tbody tr th:only-of-type {\n",
              "        vertical-align: middle;\n",
              "    }\n",
              "\n",
              "    .dataframe tbody tr th {\n",
              "        vertical-align: top;\n",
              "    }\n",
              "\n",
              "    .dataframe thead th {\n",
              "        text-align: right;\n",
              "    }\n",
              "</style>\n",
              "<table border=\"1\" class=\"dataframe\">\n",
              "  <thead>\n",
              "    <tr style=\"text-align: right;\">\n",
              "      <th></th>\n",
              "      <th>X</th>\n",
              "      <th>Y</th>\n",
              "      <th>Index_</th>\n",
              "      <th>event_unique_id</th>\n",
              "      <th>occurrencedate</th>\n",
              "      <th>reporteddate</th>\n",
              "      <th>premisetype</th>\n",
              "      <th>ucr_code</th>\n",
              "      <th>ucr_ext</th>\n",
              "      <th>offence</th>\n",
              "      <th>reportedyear</th>\n",
              "      <th>reportedmonth</th>\n",
              "      <th>reportedday</th>\n",
              "      <th>reporteddayofyear</th>\n",
              "      <th>reporteddayofweek</th>\n",
              "      <th>reportedhour</th>\n",
              "      <th>occurrenceyear</th>\n",
              "      <th>occurrencemonth</th>\n",
              "      <th>occurrenceday</th>\n",
              "      <th>occurrencedayofyear</th>\n",
              "      <th>occurrencedayofweek</th>\n",
              "      <th>occurrencehour</th>\n",
              "      <th>MCI</th>\n",
              "      <th>Division</th>\n",
              "      <th>Hood_ID</th>\n",
              "      <th>Neighbourhood</th>\n",
              "      <th>Long</th>\n",
              "      <th>Lat</th>\n",
              "      <th>ObjectId</th>\n",
              "    </tr>\n",
              "  </thead>\n",
              "  <tbody>\n",
              "    <tr>\n",
              "      <th>0</th>\n",
              "      <td>-8816401.413</td>\n",
              "      <td>5434587.125</td>\n",
              "      <td>701</td>\n",
              "      <td>GO-20141756319</td>\n",
              "      <td>2014/03/24 00:00:00+00</td>\n",
              "      <td>2014/03/24 00:00:00+00</td>\n",
              "      <td>Commercial</td>\n",
              "      <td>1430</td>\n",
              "      <td>100</td>\n",
              "      <td>Assault</td>\n",
              "      <td>2014</td>\n",
              "      <td>March</td>\n",
              "      <td>24</td>\n",
              "      <td>83</td>\n",
              "      <td>Monday</td>\n",
              "      <td>3</td>\n",
              "      <td>2014.0</td>\n",
              "      <td>March</td>\n",
              "      <td>24.0</td>\n",
              "      <td>83.0</td>\n",
              "      <td>Monday</td>\n",
              "      <td>1</td>\n",
              "      <td>Assault</td>\n",
              "      <td>D42</td>\n",
              "      <td>132</td>\n",
              "      <td>Malvern (132)</td>\n",
              "      <td>-79.199081</td>\n",
              "      <td>43.800281</td>\n",
              "      <td>1</td>\n",
              "    </tr>\n",
              "    <tr>\n",
              "      <th>1</th>\n",
              "      <td>-8837251.743</td>\n",
              "      <td>5413356.630</td>\n",
              "      <td>901</td>\n",
              "      <td>GO-20143006885</td>\n",
              "      <td>2014/09/27 00:00:00+00</td>\n",
              "      <td>2014/09/29 00:00:00+00</td>\n",
              "      <td>Other</td>\n",
              "      <td>2120</td>\n",
              "      <td>200</td>\n",
              "      <td>B&amp;E</td>\n",
              "      <td>2014</td>\n",
              "      <td>September</td>\n",
              "      <td>29</td>\n",
              "      <td>272</td>\n",
              "      <td>Monday</td>\n",
              "      <td>10</td>\n",
              "      <td>2014.0</td>\n",
              "      <td>September</td>\n",
              "      <td>27.0</td>\n",
              "      <td>270.0</td>\n",
              "      <td>Saturday</td>\n",
              "      <td>16</td>\n",
              "      <td>Break and Enter</td>\n",
              "      <td>D52</td>\n",
              "      <td>76</td>\n",
              "      <td>Bay Street Corridor (76)</td>\n",
              "      <td>-79.386383</td>\n",
              "      <td>43.662472</td>\n",
              "      <td>2</td>\n",
              "    </tr>\n",
              "    <tr>\n",
              "      <th>2</th>\n",
              "      <td>-8862433.492</td>\n",
              "      <td>5422275.764</td>\n",
              "      <td>702</td>\n",
              "      <td>GO-20141756802</td>\n",
              "      <td>2014/03/24 00:00:00+00</td>\n",
              "      <td>2014/03/24 00:00:00+00</td>\n",
              "      <td>Commercial</td>\n",
              "      <td>2120</td>\n",
              "      <td>200</td>\n",
              "      <td>B&amp;E</td>\n",
              "      <td>2014</td>\n",
              "      <td>March</td>\n",
              "      <td>24</td>\n",
              "      <td>83</td>\n",
              "      <td>Monday</td>\n",
              "      <td>7</td>\n",
              "      <td>2014.0</td>\n",
              "      <td>March</td>\n",
              "      <td>24.0</td>\n",
              "      <td>83.0</td>\n",
              "      <td>Monday</td>\n",
              "      <td>6</td>\n",
              "      <td>Break and Enter</td>\n",
              "      <td>D23</td>\n",
              "      <td>1</td>\n",
              "      <td>West Humber-Clairville (1)</td>\n",
              "      <td>-79.612595</td>\n",
              "      <td>43.720406</td>\n",
              "      <td>3</td>\n",
              "    </tr>\n",
              "    <tr>\n",
              "      <th>3</th>\n",
              "      <td>-8833103.756</td>\n",
              "      <td>5431886.975</td>\n",
              "      <td>703</td>\n",
              "      <td>GO-20141760570</td>\n",
              "      <td>2014/03/24 00:00:00+00</td>\n",
              "      <td>2014/03/24 00:00:00+00</td>\n",
              "      <td>Apartment</td>\n",
              "      <td>2120</td>\n",
              "      <td>200</td>\n",
              "      <td>B&amp;E</td>\n",
              "      <td>2014</td>\n",
              "      <td>March</td>\n",
              "      <td>24</td>\n",
              "      <td>83</td>\n",
              "      <td>Monday</td>\n",
              "      <td>23</td>\n",
              "      <td>2014.0</td>\n",
              "      <td>March</td>\n",
              "      <td>24.0</td>\n",
              "      <td>83.0</td>\n",
              "      <td>Monday</td>\n",
              "      <td>15</td>\n",
              "      <td>Break and Enter</td>\n",
              "      <td>D33</td>\n",
              "      <td>47</td>\n",
              "      <td>Don Valley Village (47)</td>\n",
              "      <td>-79.349121</td>\n",
              "      <td>43.782772</td>\n",
              "      <td>4</td>\n",
              "    </tr>\n",
              "    <tr>\n",
              "      <th>4</th>\n",
              "      <td>-8845310.751</td>\n",
              "      <td>5413667.148</td>\n",
              "      <td>902</td>\n",
              "      <td>GO-20142004859</td>\n",
              "      <td>2014/05/03 00:00:00+00</td>\n",
              "      <td>2014/05/03 00:00:00+00</td>\n",
              "      <td>Commercial</td>\n",
              "      <td>1610</td>\n",
              "      <td>210</td>\n",
              "      <td>Robbery - Business</td>\n",
              "      <td>2014</td>\n",
              "      <td>May</td>\n",
              "      <td>3</td>\n",
              "      <td>123</td>\n",
              "      <td>Saturday</td>\n",
              "      <td>2</td>\n",
              "      <td>2014.0</td>\n",
              "      <td>May</td>\n",
              "      <td>3.0</td>\n",
              "      <td>123.0</td>\n",
              "      <td>Saturday</td>\n",
              "      <td>2</td>\n",
              "      <td>Robbery</td>\n",
              "      <td>D11</td>\n",
              "      <td>90</td>\n",
              "      <td>Junction Area (90)</td>\n",
              "      <td>-79.458778</td>\n",
              "      <td>43.664490</td>\n",
              "      <td>5</td>\n",
              "    </tr>\n",
              "  </tbody>\n",
              "</table>\n",
              "</div>"
            ],
            "text/plain": [
              "             X            Y  Index_  ...       Long        Lat ObjectId\n",
              "0 -8816401.413  5434587.125     701  ... -79.199081  43.800281        1\n",
              "1 -8837251.743  5413356.630     901  ... -79.386383  43.662472        2\n",
              "2 -8862433.492  5422275.764     702  ... -79.612595  43.720406        3\n",
              "3 -8833103.756  5431886.975     703  ... -79.349121  43.782772        4\n",
              "4 -8845310.751  5413667.148     902  ... -79.458778  43.664490        5\n",
              "\n",
              "[5 rows x 29 columns]"
            ]
          },
          "metadata": {
            "tags": []
          },
          "execution_count": 4
        }
      ]
    },
    {
      "cell_type": "markdown",
      "metadata": {
        "id": "rxw-1i930xkV"
      },
      "source": [
        "###Data Preprocessing"
      ]
    },
    {
      "cell_type": "code",
      "metadata": {
        "id": "D8J6_N0iJ-we",
        "outputId": "38095054-3cf5-4307-9e7b-b378663486d4",
        "colab": {
          "base_uri": "https://localhost:8080/",
          "height": 194
        }
      },
      "source": [
        "sampleX_Y = df[['occurrencedayofweek', 'Neighbourhood', 'MCI']]\n",
        "sampleX_Y.head()"
      ],
      "execution_count": 5,
      "outputs": [
        {
          "output_type": "execute_result",
          "data": {
            "text/html": [
              "<div>\n",
              "<style scoped>\n",
              "    .dataframe tbody tr th:only-of-type {\n",
              "        vertical-align: middle;\n",
              "    }\n",
              "\n",
              "    .dataframe tbody tr th {\n",
              "        vertical-align: top;\n",
              "    }\n",
              "\n",
              "    .dataframe thead th {\n",
              "        text-align: right;\n",
              "    }\n",
              "</style>\n",
              "<table border=\"1\" class=\"dataframe\">\n",
              "  <thead>\n",
              "    <tr style=\"text-align: right;\">\n",
              "      <th></th>\n",
              "      <th>occurrencedayofweek</th>\n",
              "      <th>Neighbourhood</th>\n",
              "      <th>MCI</th>\n",
              "    </tr>\n",
              "  </thead>\n",
              "  <tbody>\n",
              "    <tr>\n",
              "      <th>0</th>\n",
              "      <td>Monday</td>\n",
              "      <td>Malvern (132)</td>\n",
              "      <td>Assault</td>\n",
              "    </tr>\n",
              "    <tr>\n",
              "      <th>1</th>\n",
              "      <td>Saturday</td>\n",
              "      <td>Bay Street Corridor (76)</td>\n",
              "      <td>Break and Enter</td>\n",
              "    </tr>\n",
              "    <tr>\n",
              "      <th>2</th>\n",
              "      <td>Monday</td>\n",
              "      <td>West Humber-Clairville (1)</td>\n",
              "      <td>Break and Enter</td>\n",
              "    </tr>\n",
              "    <tr>\n",
              "      <th>3</th>\n",
              "      <td>Monday</td>\n",
              "      <td>Don Valley Village (47)</td>\n",
              "      <td>Break and Enter</td>\n",
              "    </tr>\n",
              "    <tr>\n",
              "      <th>4</th>\n",
              "      <td>Saturday</td>\n",
              "      <td>Junction Area (90)</td>\n",
              "      <td>Robbery</td>\n",
              "    </tr>\n",
              "  </tbody>\n",
              "</table>\n",
              "</div>"
            ],
            "text/plain": [
              "  occurrencedayofweek               Neighbourhood              MCI\n",
              "0          Monday                   Malvern (132)          Assault\n",
              "1          Saturday      Bay Street Corridor (76)  Break and Enter\n",
              "2          Monday      West Humber-Clairville (1)  Break and Enter\n",
              "3          Monday         Don Valley Village (47)  Break and Enter\n",
              "4          Saturday            Junction Area (90)          Robbery"
            ]
          },
          "metadata": {
            "tags": []
          },
          "execution_count": 5
        }
      ]
    },
    {
      "cell_type": "code",
      "metadata": {
        "id": "boMVOIpYabzy",
        "outputId": "913a28a3-ff29-43a0-ff60-0b987dd33658",
        "colab": {
          "base_uri": "https://localhost:8080/"
        }
      },
      "source": [
        "records=[]\n",
        "for i in range(0,len(sampleX_Y)):\n",
        "  records.append([str(sampleX_Y.values[i,j])for j in range(0,3)])\n",
        "len(records)"
      ],
      "execution_count": 6,
      "outputs": [
        {
          "output_type": "execute_result",
          "data": {
            "text/plain": [
              "206435"
            ]
          },
          "metadata": {
            "tags": []
          },
          "execution_count": 6
        }
      ]
    },
    {
      "cell_type": "markdown",
      "metadata": {
        "id": "vMQvmm3x07Nk"
      },
      "source": [
        "###Apriori Algorithm"
      ]
    },
    {
      "cell_type": "markdown",
      "metadata": {
        "id": "6gcUqSOA1GlX"
      },
      "source": [
        ""
      ]
    },
    {
      "cell_type": "code",
      "metadata": {
        "id": "-VO3Z3_dOFBZ",
        "outputId": "21c6ef9d-c1c0-4422-b341-51865ae62fb6",
        "colab": {
          "base_uri": "https://localhost:8080/"
        }
      },
      "source": [
        "#asso_rules = apriori(records, min_support= 0.3)\n",
        "asso_rules = apriori(records)\n",
        "asso_results = list(asso_rules)\n",
        "#print(len(asso_results))\n",
        "asso_results"
      ],
      "execution_count": 7,
      "outputs": [
        {
          "output_type": "execute_result",
          "data": {
            "text/plain": [
              "[RelationRecord(items=frozenset({'Assault'}), support=0.5397485891442827, ordered_statistics=[OrderedStatistic(items_base=frozenset(), items_add=frozenset({'Assault'}), confidence=0.5397485891442827, lift=1.0)]),\n",
              " RelationRecord(items=frozenset({'Auto Theft'}), support=0.11325598856783006, ordered_statistics=[OrderedStatistic(items_base=frozenset(), items_add=frozenset({'Auto Theft'}), confidence=0.11325598856783006, lift=1.0)]),\n",
              " RelationRecord(items=frozenset({'Break and Enter'}), support=0.2097609417007775, ordered_statistics=[OrderedStatistic(items_base=frozenset(), items_add=frozenset({'Break and Enter'}), confidence=0.2097609417007775, lift=1.0)]),\n",
              " RelationRecord(items=frozenset({'Friday    '}), support=0.15204301596144065, ordered_statistics=[OrderedStatistic(items_base=frozenset(), items_add=frozenset({'Friday    '}), confidence=0.15204301596144065, lift=1.0)]),\n",
              " RelationRecord(items=frozenset({'Monday    '}), support=0.13954029113280209, ordered_statistics=[OrderedStatistic(items_base=frozenset(), items_add=frozenset({'Monday    '}), confidence=0.13954029113280209, lift=1.0)]),\n",
              " RelationRecord(items=frozenset({'Robbery'}), support=0.10435730375178627, ordered_statistics=[OrderedStatistic(items_base=frozenset(), items_add=frozenset({'Robbery'}), confidence=0.10435730375178627, lift=1.0)]),\n",
              " RelationRecord(items=frozenset({'Saturday  '}), support=0.1491074672415046, ordered_statistics=[OrderedStatistic(items_base=frozenset(), items_add=frozenset({'Saturday  '}), confidence=0.1491074672415046, lift=1.0)]),\n",
              " RelationRecord(items=frozenset({'Sunday    '}), support=0.14395814663211182, ordered_statistics=[OrderedStatistic(items_base=frozenset(), items_add=frozenset({'Sunday    '}), confidence=0.14395814663211182, lift=1.0)]),\n",
              " RelationRecord(items=frozenset({'Thursday  '}), support=0.1399229781771502, ordered_statistics=[OrderedStatistic(items_base=frozenset(), items_add=frozenset({'Thursday  '}), confidence=0.1399229781771502, lift=1.0)]),\n",
              " RelationRecord(items=frozenset({'Tuesday   '}), support=0.13633831472376293, ordered_statistics=[OrderedStatistic(items_base=frozenset(), items_add=frozenset({'Tuesday   '}), confidence=0.13633831472376293, lift=1.0)]),\n",
              " RelationRecord(items=frozenset({'Wednesday '}), support=0.13880398188291715, ordered_statistics=[OrderedStatistic(items_base=frozenset(), items_add=frozenset({'Wednesday '}), confidence=0.13880398188291715, lift=1.0)])]"
            ]
          },
          "metadata": {
            "tags": []
          },
          "execution_count": 7
        }
      ]
    },
    {
      "cell_type": "markdown",
      "metadata": {
        "id": "j1pz1npDUbT6"
      },
      "source": [
        "#Data Processing"
      ]
    },
    {
      "cell_type": "code",
      "metadata": {
        "id": "VqnPIbsEQnZQ"
      },
      "source": [
        "# Columns for the models\n",
        "col_list = ['occurrenceyear',\t'occurrencemonth','occurrenceday','occurrencedayofyear','occurrencedayofweek','occurrencehour','MCI',\t'Division',\t'Hood_ID','premisetype']\n",
        "\n",
        "# New dataframe from columns\n",
        "df2 = df[col_list]\n",
        "df2 = df2[df2['occurrenceyear'] > 2013]\n",
        "\n",
        "#Factorize\n",
        "crime_var = pd.factorize(df2['MCI'])\n",
        "df2['MCI'] = crime_var[0]\n",
        "definition_list_MCI = crime_var[1]\n",
        "\n",
        "premise_var = pd.factorize(df2['premisetype'])\n",
        "df2['premisetype'] = premise_var[0]\n",
        "definition_list_premise = premise_var[1] \n",
        "\n",
        "year_var = pd.factorize(df2['occurrenceyear'])\n",
        "df2['occurrenceyear'] = year_var[0]\n",
        "definition_list_year = year_var[1] \n",
        "\n",
        "month_var = pd.factorize(df2['occurrencemonth'])\n",
        "df2['occurrencemonth'] = month_var[0]\n",
        "definition_list_month = month_var[1] \n",
        "\n",
        "day_var = pd.factorize(df2['occurrenceday'])\n",
        "df2['occurenceday'] = day_var[0]\n",
        "definition_list_day = day_var[1] \n",
        "\n",
        "dayweek_var = pd.factorize(df2['occurrencedayofweek'])\n",
        "df2['occurrencedayofweek'] = dayweek_var[0]\n",
        "definition_list_day = dayweek_var[1] \n",
        "\n",
        "division_var = pd.factorize(df2['Division'])\n",
        "df2['Division'] = division_var[0]\n",
        "definition_list_division = division_var[1] \n",
        "\n",
        "hood_var = pd.factorize(df2['Hood_ID'])\n",
        "df2['Hood_ID'] = hood_var[0]\n",
        "definition_list_hood = hood_var[1] \n",
        "\n",
        "hour_var = pd.factorize(df2['occurrencehour'])\n",
        "df2['occurrencehour'] = hour_var[0]\n",
        "definition_list_hour = hour_var[1] \n",
        "\n",
        "dayyear_var = pd.factorize(df2['occurrencedayofyear'])\n",
        "df2['occurrencedayofyear'] = dayyear_var[0]\n",
        "definition_list_dayyear = dayyear_var[1]\n",
        "\n",
        "\n"
      ],
      "execution_count": 8,
      "outputs": []
    },
    {
      "cell_type": "markdown",
      "metadata": {
        "id": "Lp7Xgdb8UlAf"
      },
      "source": [
        "#Splitting the dataset into training and tests set"
      ]
    },
    {
      "cell_type": "code",
      "metadata": {
        "id": "X4MPijkUUmsl"
      },
      "source": [
        "#set X and Y:\n",
        "X = df2.drop(['MCI'],axis=1).values\n",
        "y = df2['MCI'].values\n",
        "\n",
        "#split the data into train and test sets for numeric encoded dataset:\n",
        "X_train, X_test, y_train, y_test = train_test_split(X, y, test_size = 0.25, random_state = 21)\n",
        "\n",
        "#need to OneHotEncode all the X variables for input into the classification model:\n",
        "binary_encoder = OneHotEncoder(sparse=False,categories='auto')\n",
        "encoded_X = binary_encoder.fit_transform(X)\n",
        "X_train_OH, X_test_OH, y_train_OH, y_test_OH = train_test_split(encoded_X, y, test_size = 0.3, random_state = 21)"
      ],
      "execution_count": 9,
      "outputs": []
    },
    {
      "cell_type": "markdown",
      "metadata": {
        "id": "cDeDJLArU9n3"
      },
      "source": [
        "#RandomForestClassifier"
      ]
    },
    {
      "cell_type": "code",
      "metadata": {
        "id": "O0sZruxGVWBe",
        "outputId": "03375313-04f0-42af-c857-ee131a888ac1",
        "colab": {
          "base_uri": "https://localhost:8080/"
        }
      },
      "source": [
        "#Balanced Class Weight doesn't make a big difference for results:\n",
        "classifier = RandomForestClassifier(n_estimators = 100, criterion = 'entropy', random_state = 0)\n",
        "classifier.fit(X_train, y_train)\n",
        "y_pred = classifier.predict(X_test) \n",
        "y_pred\n"
      ],
      "execution_count": 10,
      "outputs": [
        {
          "output_type": "execute_result",
          "data": {
            "text/plain": [
              "array([1, 0, 4, ..., 4, 0, 2])"
            ]
          },
          "metadata": {
            "tags": []
          },
          "execution_count": 10
        }
      ]
    },
    {
      "cell_type": "code",
      "metadata": {
        "id": "yVdvnudpxxx_",
        "outputId": "85005368-b35d-447a-817a-aaf060f9b501",
        "colab": {
          "base_uri": "https://localhost:8080/"
        }
      },
      "source": [
        "print(\"Accuracy of Random Forest: \",accuracy_score(y_test, y_pred))\n",
        "print(confusion_matrix(y_test, y_pred)) \n",
        "print(classification_report(y_test,y_pred, target_names=definition_list_MCI))"
      ],
      "execution_count": 11,
      "outputs": [
        {
          "output_type": "stream",
          "text": [
            "Accuracy of Random Forest:  0.6378017182599209\n",
            "[[23917  2186   631    53   819]\n",
            " [ 5460  5057    53    50   263]\n",
            " [ 2964   330  1639    19   388]\n",
            " [ 1098   374    34    26   129]\n",
            " [ 2766   707   239    29  2100]]\n",
            "                 precision    recall  f1-score   support\n",
            "\n",
            "        Assault       0.66      0.87      0.75     27606\n",
            "Break and Enter       0.58      0.46      0.52     10883\n",
            "        Robbery       0.63      0.31      0.41      5340\n",
            "     Theft Over       0.15      0.02      0.03      1661\n",
            "     Auto Theft       0.57      0.36      0.44      5841\n",
            "\n",
            "       accuracy                           0.64     51331\n",
            "      macro avg       0.52      0.40      0.43     51331\n",
            "   weighted avg       0.61      0.64      0.61     51331\n",
            "\n"
          ],
          "name": "stdout"
        }
      ]
    },
    {
      "cell_type": "markdown",
      "metadata": {
        "id": "5-ub0dxZxPL4"
      },
      "source": [
        "#KNN"
      ]
    },
    {
      "cell_type": "code",
      "metadata": {
        "id": "jDnPrNyaxOeO",
        "outputId": "6ac039a3-ed60-4434-f421-32fb14ba68f7",
        "colab": {
          "base_uri": "https://localhost:8080/"
        }
      },
      "source": [
        "from sklearn.neighbors import KNeighborsClassifier\n",
        "classifier = KNeighborsClassifier(n_neighbors=1)\n",
        "classifier.fit(X_train, y_train)"
      ],
      "execution_count": 12,
      "outputs": [
        {
          "output_type": "execute_result",
          "data": {
            "text/plain": [
              "KNeighborsClassifier(algorithm='auto', leaf_size=30, metric='minkowski',\n",
              "                     metric_params=None, n_jobs=None, n_neighbors=1, p=2,\n",
              "                     weights='uniform')"
            ]
          },
          "metadata": {
            "tags": []
          },
          "execution_count": 12
        }
      ]
    },
    {
      "cell_type": "code",
      "metadata": {
        "id": "3aDSTAu8xTbh",
        "outputId": "842da792-8d68-4d34-888e-ef5b523c98b6",
        "colab": {
          "base_uri": "https://localhost:8080/"
        }
      },
      "source": [
        "y_pred = classifier.predict(X_test)\n",
        "y_pred"
      ],
      "execution_count": 13,
      "outputs": [
        {
          "output_type": "execute_result",
          "data": {
            "text/plain": [
              "array([1, 1, 4, ..., 4, 1, 2])"
            ]
          },
          "metadata": {
            "tags": []
          },
          "execution_count": 13
        }
      ]
    },
    {
      "cell_type": "code",
      "metadata": {
        "id": "JtWlZqFyxWOm",
        "outputId": "d750fb42-e15f-41f9-b458-b915b5689e75",
        "colab": {
          "base_uri": "https://localhost:8080/"
        }
      },
      "source": [
        "from sklearn.metrics import classification_report, confusion_matrix\n",
        "print(\"Accuracy of KNN: \",accuracy_score(y_test, y_pred))\n",
        "print(confusion_matrix(y_test, y_pred))\n",
        "print(classification_report(y_test, y_pred))"
      ],
      "execution_count": 14,
      "outputs": [
        {
          "output_type": "stream",
          "text": [
            "Accuracy of KNN:  0.4779178274337145\n",
            "[[17853  4654  2055   724  2320]\n",
            " [ 5346  3221   876   365  1075]\n",
            " [ 2116   816  1812   129   467]\n",
            " [  852   390   143    87   189]\n",
            " [ 2506  1105   496   175  1559]]\n",
            "              precision    recall  f1-score   support\n",
            "\n",
            "           0       0.62      0.65      0.63     27606\n",
            "           1       0.32      0.30      0.31     10883\n",
            "           2       0.34      0.34      0.34      5340\n",
            "           3       0.06      0.05      0.06      1661\n",
            "           4       0.28      0.27      0.27      5841\n",
            "\n",
            "    accuracy                           0.48     51331\n",
            "   macro avg       0.32      0.32      0.32     51331\n",
            "weighted avg       0.47      0.48      0.47     51331\n",
            "\n"
          ],
          "name": "stdout"
        }
      ]
    },
    {
      "cell_type": "markdown",
      "metadata": {
        "id": "v0gghRUW0thw"
      },
      "source": [
        "#AdaBoostClassifier"
      ]
    },
    {
      "cell_type": "markdown",
      "metadata": {
        "id": "XQIcz2V10lOr"
      },
      "source": [
        ""
      ]
    },
    {
      "cell_type": "code",
      "metadata": {
        "id": "fHlBrNd80xxl",
        "outputId": "e478d02c-c305-4bab-e6e4-02e4339e230d",
        "colab": {
          "base_uri": "https://localhost:8080/"
        }
      },
      "source": [
        "from sklearn.ensemble import AdaBoostClassifier\n",
        "# Create adaboost classifer object\n",
        "abc = AdaBoostClassifier(n_estimators=100,learning_rate=0.001)\n",
        "# Train Adaboost Classifer\n",
        "model = abc.fit(X_train, y_train)\n",
        "\n",
        "#Predict the response for test dataset\n",
        "y_pred = model.predict(X_test)\n",
        "y_pred"
      ],
      "execution_count": 15,
      "outputs": [
        {
          "output_type": "execute_result",
          "data": {
            "text/plain": [
              "array([0, 0, 0, ..., 0, 0, 0])"
            ]
          },
          "metadata": {
            "tags": []
          },
          "execution_count": 15
        }
      ]
    },
    {
      "cell_type": "code",
      "metadata": {
        "id": "ntk4YW_-1WOW",
        "outputId": "3204eefd-feb3-4a64-f565-32c30e24efaf",
        "colab": {
          "base_uri": "https://localhost:8080/"
        }
      },
      "source": [
        "print(\"AdaBoostClassifier: \",accuracy_score(y_test, y_pred))"
      ],
      "execution_count": 16,
      "outputs": [
        {
          "output_type": "stream",
          "text": [
            "AdaBoostClassifier:  0.5378036664004208\n"
          ],
          "name": "stdout"
        }
      ]
    }
  ]
}
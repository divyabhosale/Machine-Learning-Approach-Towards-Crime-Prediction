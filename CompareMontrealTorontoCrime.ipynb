{
 "cells": [
  {
   "cell_type": "code",
   "execution_count": 1,
   "metadata": {},
   "outputs": [],
   "source": [
    "#Loading the libraries\n",
    "import pandas as pd\n",
    "import numpy as np\n",
    "import sklearn\n",
    "from sklearn.model_selection import train_test_split, RandomizedSearchCV\n",
    "from sklearn.ensemble import RandomForestClassifier,AdaBoostClassifier\n",
    "from sklearn.metrics import accuracy_score, confusion_matrix, classification_report\n",
    "from sklearn.neighbors import KNeighborsClassifier\n",
    "from sklearn.preprocessing import StandardScaler\n",
    "from random import randint\n",
    "import scipy.stats"
   ]
  },
  {
   "cell_type": "code",
   "execution_count": 2,
   "metadata": {},
   "outputs": [],
   "source": [
    "#Data Loading\n",
    "toronto_data=pd.read_csv(\"Toronto_2014to2019.csv\")\n",
    "montreal_data=pd.read_csv(\"Montreal_2015toOct2020.csv\",encoding='latin_1')"
   ]
  },
  {
   "cell_type": "code",
   "execution_count": 3,
   "metadata": {},
   "outputs": [],
   "source": [
    "#Toronto Data Processing for comparison\n",
    "col_list = ['X','Y','Long','Lat','occurrenceyear','occurrencemonth','occurrenceday',\\\n",
    "            'occurrencehour','MCI','Hood_ID']\n",
    "toronto_data=toronto_data[col_list]\n",
    "toronto_data=toronto_data.dropna(subset=['occurrenceyear'])\n",
    "crime_var=pd.factorize(toronto_data[\"MCI\"])\n",
    "toronto_data['MCI'] = crime_var[0]\n",
    "definition_list_MCI = crime_var[1]\n",
    "toronto_data['occurrencemonth'] = pd.factorize(toronto_data['occurrencemonth'])[0]"
   ]
  },
  {
   "cell_type": "code",
   "execution_count": 4,
   "metadata": {},
   "outputs": [],
   "source": [
    "#Montreal Data Processing for comparison\n",
    "montreal_data.rename(columns={\"CATEGORIE\":\"OFFENCE\",\"QUART\":\"OCCURENCETIME\"},inplace=True)\n",
    "montreal_data = montreal_data.dropna(how='any',axis=0) \n",
    "\n",
    "offence_factorize=pd.factorize(montreal_data[\"OFFENCE\"])\n",
    "montreal_data[\"OFFENCE\"]=offence_factorize[0]\n",
    "offence_list_names=offence_factorize[1]\n",
    "montreal_data[\"OCCURENCETIME\"]=pd.factorize(montreal_data[\"OCCURENCETIME\"])[0]\n",
    "\n",
    "montreal_data[\"PDQ\"]=montreal_data[\"PDQ\"].astype(np.int32)\n",
    "montreal_data[[\"OCCURENCEYEAR\",\"OCCURENCEMONTH\",\"OCCURENCEDATE\"]]=montreal_data.DATE.str.split(\"-\", expand=True)"
   ]
  },
  {
   "cell_type": "code",
   "execution_count": 5,
   "metadata": {},
   "outputs": [],
   "source": [
    "#Splitting Toronto Data\n",
    "X_tor=toronto_data.drop(['MCI'],axis=1).values\n",
    "y_tor=toronto_data['MCI'].values\n",
    "X_train_tor, X_test_tor, y_train_tor, y_test_tor = train_test_split(X_tor, y_tor, test_size = 0.20, random_state = 0)"
   ]
  },
  {
   "cell_type": "code",
   "execution_count": 6,
   "metadata": {},
   "outputs": [],
   "source": [
    "#Splitting Montreal data\n",
    "X_mon=montreal_data[[\"X\",\"Y\",\"OCCURENCEYEAR\",\"OCCURENCEMONTH\",\"OCCURENCEDATE\",\"OCCURENCETIME\",\"LATITUDE\",\"LONGITUDE\",\"PDQ\"]]\n",
    "y_mon=montreal_data[[\"OFFENCE\"]]\n",
    "X_train_mon, X_test_mon, y_train_mon, y_test_mon = train_test_split(X_mon, y_mon, test_size=0.20, random_state=0)"
   ]
  },
  {
   "cell_type": "code",
   "execution_count": 7,
   "metadata": {},
   "outputs": [],
   "source": [
    "def runRandomForest(X_train,y_train,X_test,y_test):\n",
    "    clfRF = RandomForestClassifier(random_state=0, criterion='entropy')\n",
    "    clfRF.fit(X_train,y_train)\n",
    "    y_pred_train = clfRF.predict(X_train)\n",
    "    y_pred_test = clfRF.predict(X_test)\n",
    "    train_accuracy = sklearn.metrics.accuracy_score(y_train, y_pred_train)\n",
    "    test_accuracy = sklearn.metrics.accuracy_score(y_test, y_pred_test)\n",
    "    print(\" Random Forest Training Accuracy -> \",train_accuracy*100)\n",
    "    print(\" Random Forest Testing Accuracy -> \",test_accuracy*100)"
   ]
  },
  {
   "cell_type": "code",
   "execution_count": 8,
   "metadata": {},
   "outputs": [
    {
     "name": "stderr",
     "output_type": "stream",
     "text": [
      "C:\\Users\\Sai Krishna\\Anaconda3\\lib\\site-packages\\sklearn\\ensemble\\forest.py:245: FutureWarning: The default value of n_estimators will change from 10 in version 0.20 to 100 in 0.22.\n",
      "  \"10 in version 0.20 to 100 in 0.22.\", FutureWarning)\n"
     ]
    },
    {
     "name": "stdout",
     "output_type": "stream",
     "text": [
      " Random Forest Training Accuracy ->  96.74197456087221\n",
      " Random Forest Testing Accuracy ->  60.18509545498595\n"
     ]
    }
   ],
   "source": [
    "#RandomForest on Toronto\n",
    "runRandomForest(X_train_tor,y_train_tor,X_test_tor,y_test_tor)"
   ]
  },
  {
   "cell_type": "code",
   "execution_count": 9,
   "metadata": {},
   "outputs": [
    {
     "name": "stderr",
     "output_type": "stream",
     "text": [
      "C:\\Users\\Sai Krishna\\Anaconda3\\lib\\site-packages\\sklearn\\ensemble\\forest.py:245: FutureWarning: The default value of n_estimators will change from 10 in version 0.20 to 100 in 0.22.\n",
      "  \"10 in version 0.20 to 100 in 0.22.\", FutureWarning)\n",
      "C:\\Users\\Sai Krishna\\Anaconda3\\lib\\site-packages\\ipykernel_launcher.py:3: DataConversionWarning: A column-vector y was passed when a 1d array was expected. Please change the shape of y to (n_samples,), for example using ravel().\n",
      "  This is separate from the ipykernel package so we can avoid doing imports until\n"
     ]
    },
    {
     "name": "stdout",
     "output_type": "stream",
     "text": [
      " Random Forest Training Accuracy ->  96.31190053285968\n",
      " Random Forest Testing Accuracy ->  39.66124815277936\n"
     ]
    }
   ],
   "source": [
    "#RandomForest on Montreal\n",
    "runRandomForest(X_train_mon,y_train_mon,X_test_mon,y_test_mon)"
   ]
  }
 ],
 "metadata": {
  "kernelspec": {
   "display_name": "Python 3",
   "language": "python",
   "name": "python3"
  },
  "language_info": {
   "codemirror_mode": {
    "name": "ipython",
    "version": 3
   },
   "file_extension": ".py",
   "mimetype": "text/x-python",
   "name": "python",
   "nbconvert_exporter": "python",
   "pygments_lexer": "ipython3",
   "version": "3.7.4"
  }
 },
 "nbformat": 4,
 "nbformat_minor": 4
}

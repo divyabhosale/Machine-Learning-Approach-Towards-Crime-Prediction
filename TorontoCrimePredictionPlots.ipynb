{
  "nbformat": 4,
  "nbformat_minor": 0,
  "metadata": {
    "kernelspec": {
      "display_name": "Python 3",
      "language": "python",
      "name": "python3"
    },
    "language_info": {
      "codemirror_mode": {
        "name": "ipython",
        "version": 3
      },
      "file_extension": ".py",
      "mimetype": "text/x-python",
      "name": "python",
      "nbconvert_exporter": "python",
      "pygments_lexer": "ipython3",
      "version": "3.8.3"
    },
    "colab": {
      "name": "TorontoCrimePrediction.ipynb",
      "provenance": [],
      "collapsed_sections": []
    },
    "accelerator": "GPU"
  },
  "cells": [
    {
      "cell_type": "code",
      "metadata": {
        "colab": {
          "base_uri": "https://localhost:8080/"
        },
        "id": "5s-EyeC8UDPk",
        "outputId": "d7d6755c-f7a1-4c07-8265-d3c67e775853"
      },
      "source": [
        "from google.colab import drive\n",
        "drive.mount('/content/drive')"
      ],
      "execution_count": null,
      "outputs": [
        {
          "output_type": "stream",
          "text": [
            "Mounted at /content/drive\n"
          ],
          "name": "stdout"
        }
      ]
    },
    {
      "cell_type": "code",
      "metadata": {
        "id": "pHFkFMEkTu-E"
      },
      "source": [
        "#Loading the libraries\n",
        "import pandas as pd\n",
        "import numpy as np\n",
        "from sklearn.model_selection import train_test_split, RandomizedSearchCV\n",
        "from sklearn.ensemble import RandomForestClassifier,AdaBoostClassifier\n",
        "from sklearn.metrics import accuracy_score, confusion_matrix, classification_report\n",
        "from sklearn.neighbors import KNeighborsClassifier\n",
        "from sklearn.preprocessing import StandardScaler\n",
        "from random import randint\n",
        "import scipy.stats\n",
        "import matplotlib.pyplot as plt\n",
        "import seaborn as sns\n"
      ],
      "execution_count": null,
      "outputs": []
    },
    {
      "cell_type": "code",
      "metadata": {
        "id": "OyltR0QLTu-F"
      },
      "source": [
        "#Data Loading\n",
        "toronto_data=pd.read_csv(\"/content/drive/MyDrive/Colab Notebooks/Machine-Learning-Approach-Towards-Crime-Prediction/Toronto_2014to2019.csv\")\n",
        "df=toronto_data"
      ],
      "execution_count": null,
      "outputs": []
    },
    {
      "cell_type": "code",
      "metadata": {
        "id": "0zeppK71Tu-F"
      },
      "source": [
        "#Data Processing\n",
        "col_list = ['occurrenceyear','occurrencemonth','occurrenceday','occurrencedayofyear','occurrencedayofweek',\\\n",
        "            'occurrencehour','MCI','Division','Hood_ID','premisetype']\n",
        "toronto_data=toronto_data[col_list]\n",
        "toronto_data=toronto_data.dropna(subset=['occurrenceyear'])\n",
        "crime_var=pd.factorize(toronto_data[\"MCI\"])\n",
        "toronto_data['MCI'] = crime_var[0]\n",
        "definition_list_MCI = crime_var[1]\n",
        "toronto_data['premisetype'] = pd.factorize(toronto_data['premisetype'])[0]\n",
        "toronto_data['occurrencedayofweek'] = pd.factorize(toronto_data['occurrencedayofweek'])[0]\n",
        "toronto_data['Division'] = pd.factorize(toronto_data['Division'])[0]\n",
        "toronto_data['occurrencemonth'] = pd.factorize(toronto_data['occurrencemonth'])[0]"
      ],
      "execution_count": null,
      "outputs": []
    },
    {
      "cell_type": "code",
      "metadata": {
        "colab": {
          "base_uri": "https://localhost:8080/",
          "height": 366
        },
        "id": "jW5UeRFLTu-F",
        "outputId": "5a6ab228-2ce0-4c23-a5d3-94ba39691f11"
      },
      "source": [
        "#Splitting Data\n",
        "X=toronto_data.drop(['MCI'],axis=1).values\n",
        "y=toronto_data['MCI'].values\n",
        "\n",
        "X_train, X_test, y_train, y_test = train_test_split(X, y, test_size = 0.20, random_state = 0)\n",
        "df.head()"
      ],
      "execution_count": null,
      "outputs": [
        {
          "output_type": "execute_result",
          "data": {
            "text/html": [
              "<div>\n",
              "<style scoped>\n",
              "    .dataframe tbody tr th:only-of-type {\n",
              "        vertical-align: middle;\n",
              "    }\n",
              "\n",
              "    .dataframe tbody tr th {\n",
              "        vertical-align: top;\n",
              "    }\n",
              "\n",
              "    .dataframe thead th {\n",
              "        text-align: right;\n",
              "    }\n",
              "</style>\n",
              "<table border=\"1\" class=\"dataframe\">\n",
              "  <thead>\n",
              "    <tr style=\"text-align: right;\">\n",
              "      <th></th>\n",
              "      <th>X</th>\n",
              "      <th>Y</th>\n",
              "      <th>Index_</th>\n",
              "      <th>event_unique_id</th>\n",
              "      <th>occurrencedate</th>\n",
              "      <th>reporteddate</th>\n",
              "      <th>premisetype</th>\n",
              "      <th>ucr_code</th>\n",
              "      <th>ucr_ext</th>\n",
              "      <th>offence</th>\n",
              "      <th>reportedyear</th>\n",
              "      <th>reportedmonth</th>\n",
              "      <th>reportedday</th>\n",
              "      <th>reporteddayofyear</th>\n",
              "      <th>reporteddayofweek</th>\n",
              "      <th>reportedhour</th>\n",
              "      <th>occurrenceyear</th>\n",
              "      <th>occurrencemonth</th>\n",
              "      <th>occurrenceday</th>\n",
              "      <th>occurrencedayofyear</th>\n",
              "      <th>occurrencedayofweek</th>\n",
              "      <th>occurrencehour</th>\n",
              "      <th>MCI</th>\n",
              "      <th>Division</th>\n",
              "      <th>Hood_ID</th>\n",
              "      <th>Neighbourhood</th>\n",
              "      <th>Long</th>\n",
              "      <th>Lat</th>\n",
              "      <th>ObjectId</th>\n",
              "    </tr>\n",
              "  </thead>\n",
              "  <tbody>\n",
              "    <tr>\n",
              "      <th>0</th>\n",
              "      <td>-8.816401e+06</td>\n",
              "      <td>5.434587e+06</td>\n",
              "      <td>701</td>\n",
              "      <td>GO-20141756319</td>\n",
              "      <td>2014/03/24 00:00:00+00</td>\n",
              "      <td>2014/03/24 00:00:00+00</td>\n",
              "      <td>Commercial</td>\n",
              "      <td>1430</td>\n",
              "      <td>100</td>\n",
              "      <td>Assault</td>\n",
              "      <td>2014</td>\n",
              "      <td>March</td>\n",
              "      <td>24</td>\n",
              "      <td>83</td>\n",
              "      <td>Monday</td>\n",
              "      <td>3</td>\n",
              "      <td>2014.0</td>\n",
              "      <td>March</td>\n",
              "      <td>24.0</td>\n",
              "      <td>83.0</td>\n",
              "      <td>Monday</td>\n",
              "      <td>1</td>\n",
              "      <td>Assault</td>\n",
              "      <td>D42</td>\n",
              "      <td>132</td>\n",
              "      <td>Malvern (132)</td>\n",
              "      <td>-79.199081</td>\n",
              "      <td>43.800281</td>\n",
              "      <td>1</td>\n",
              "    </tr>\n",
              "    <tr>\n",
              "      <th>1</th>\n",
              "      <td>-8.837252e+06</td>\n",
              "      <td>5.413357e+06</td>\n",
              "      <td>901</td>\n",
              "      <td>GO-20143006885</td>\n",
              "      <td>2014/09/27 00:00:00+00</td>\n",
              "      <td>2014/09/29 00:00:00+00</td>\n",
              "      <td>Other</td>\n",
              "      <td>2120</td>\n",
              "      <td>200</td>\n",
              "      <td>B&amp;E</td>\n",
              "      <td>2014</td>\n",
              "      <td>September</td>\n",
              "      <td>29</td>\n",
              "      <td>272</td>\n",
              "      <td>Monday</td>\n",
              "      <td>10</td>\n",
              "      <td>2014.0</td>\n",
              "      <td>September</td>\n",
              "      <td>27.0</td>\n",
              "      <td>270.0</td>\n",
              "      <td>Saturday</td>\n",
              "      <td>16</td>\n",
              "      <td>Break and Enter</td>\n",
              "      <td>D52</td>\n",
              "      <td>76</td>\n",
              "      <td>Bay Street Corridor (76)</td>\n",
              "      <td>-79.386383</td>\n",
              "      <td>43.662472</td>\n",
              "      <td>2</td>\n",
              "    </tr>\n",
              "    <tr>\n",
              "      <th>2</th>\n",
              "      <td>-8.862433e+06</td>\n",
              "      <td>5.422276e+06</td>\n",
              "      <td>702</td>\n",
              "      <td>GO-20141756802</td>\n",
              "      <td>2014/03/24 00:00:00+00</td>\n",
              "      <td>2014/03/24 00:00:00+00</td>\n",
              "      <td>Commercial</td>\n",
              "      <td>2120</td>\n",
              "      <td>200</td>\n",
              "      <td>B&amp;E</td>\n",
              "      <td>2014</td>\n",
              "      <td>March</td>\n",
              "      <td>24</td>\n",
              "      <td>83</td>\n",
              "      <td>Monday</td>\n",
              "      <td>7</td>\n",
              "      <td>2014.0</td>\n",
              "      <td>March</td>\n",
              "      <td>24.0</td>\n",
              "      <td>83.0</td>\n",
              "      <td>Monday</td>\n",
              "      <td>6</td>\n",
              "      <td>Break and Enter</td>\n",
              "      <td>D23</td>\n",
              "      <td>1</td>\n",
              "      <td>West Humber-Clairville (1)</td>\n",
              "      <td>-79.612595</td>\n",
              "      <td>43.720406</td>\n",
              "      <td>3</td>\n",
              "    </tr>\n",
              "    <tr>\n",
              "      <th>3</th>\n",
              "      <td>-8.833104e+06</td>\n",
              "      <td>5.431887e+06</td>\n",
              "      <td>703</td>\n",
              "      <td>GO-20141760570</td>\n",
              "      <td>2014/03/24 00:00:00+00</td>\n",
              "      <td>2014/03/24 00:00:00+00</td>\n",
              "      <td>Apartment</td>\n",
              "      <td>2120</td>\n",
              "      <td>200</td>\n",
              "      <td>B&amp;E</td>\n",
              "      <td>2014</td>\n",
              "      <td>March</td>\n",
              "      <td>24</td>\n",
              "      <td>83</td>\n",
              "      <td>Monday</td>\n",
              "      <td>23</td>\n",
              "      <td>2014.0</td>\n",
              "      <td>March</td>\n",
              "      <td>24.0</td>\n",
              "      <td>83.0</td>\n",
              "      <td>Monday</td>\n",
              "      <td>15</td>\n",
              "      <td>Break and Enter</td>\n",
              "      <td>D33</td>\n",
              "      <td>47</td>\n",
              "      <td>Don Valley Village (47)</td>\n",
              "      <td>-79.349121</td>\n",
              "      <td>43.782772</td>\n",
              "      <td>4</td>\n",
              "    </tr>\n",
              "    <tr>\n",
              "      <th>4</th>\n",
              "      <td>-8.845311e+06</td>\n",
              "      <td>5.413667e+06</td>\n",
              "      <td>902</td>\n",
              "      <td>GO-20142004859</td>\n",
              "      <td>2014/05/03 00:00:00+00</td>\n",
              "      <td>2014/05/03 00:00:00+00</td>\n",
              "      <td>Commercial</td>\n",
              "      <td>1610</td>\n",
              "      <td>210</td>\n",
              "      <td>Robbery - Business</td>\n",
              "      <td>2014</td>\n",
              "      <td>May</td>\n",
              "      <td>3</td>\n",
              "      <td>123</td>\n",
              "      <td>Saturday</td>\n",
              "      <td>2</td>\n",
              "      <td>2014.0</td>\n",
              "      <td>May</td>\n",
              "      <td>3.0</td>\n",
              "      <td>123.0</td>\n",
              "      <td>Saturday</td>\n",
              "      <td>2</td>\n",
              "      <td>Robbery</td>\n",
              "      <td>D11</td>\n",
              "      <td>90</td>\n",
              "      <td>Junction Area (90)</td>\n",
              "      <td>-79.458778</td>\n",
              "      <td>43.664490</td>\n",
              "      <td>5</td>\n",
              "    </tr>\n",
              "  </tbody>\n",
              "</table>\n",
              "</div>"
            ],
            "text/plain": [
              "              X             Y  Index_  ...       Long        Lat ObjectId\n",
              "0 -8.816401e+06  5.434587e+06     701  ... -79.199081  43.800281        1\n",
              "1 -8.837252e+06  5.413357e+06     901  ... -79.386383  43.662472        2\n",
              "2 -8.862433e+06  5.422276e+06     702  ... -79.612595  43.720406        3\n",
              "3 -8.833104e+06  5.431887e+06     703  ... -79.349121  43.782772        4\n",
              "4 -8.845311e+06  5.413667e+06     902  ... -79.458778  43.664490        5\n",
              "\n",
              "[5 rows x 29 columns]"
            ]
          },
          "metadata": {
            "tags": []
          },
          "execution_count": 5
        }
      ]
    },
    {
      "cell_type": "code",
      "metadata": {
        "id": "6UN05st5Tu-F"
      },
      "source": [
        "def result(classifier_random):\n",
        "    y_pred = classifier_random.best_estimator_.predict(X_test)\n",
        "    print(\"Training score:\"+str(accuracy_score(y_train,classifier_random.best_estimator_.predict(X_train))))\n",
        "    print(\"Testing score:\"+str(accuracy_score(y_test,y_pred)))\n",
        "    print(confusion_matrix(y_test,y_pred))\n",
        "    print(classification_report(y_test,y_pred, target_names=definition_list_MCI))"
      ],
      "execution_count": null,
      "outputs": []
    },
    {
      "cell_type": "code",
      "metadata": {
        "id": "9Cha3gBuB4AW"
      },
      "source": [
        "def cf_mat(y_test,y_pred):\n",
        "  plt.figure(figsize=(10,10))\n",
        "  cf_matrix = confusion_matrix(y_test, y_pred)\n",
        "  sns.heatmap(cf_matrix, annot=True)\n",
        "  plt.xticks([0.5,1.5,2.5,3.5,4.5], [ 'Assault', 'Break and Enter', 'Robbery', 'Theft Over', 'Auto Theft '],va='center')\n",
        "  plt.yticks([0.5,1.5,2.5,3.5,4.5], [ 'Assault', 'Break and Enter', 'Robbery', 'Theft Over', 'Auto Theft '],va='center')\n",
        "  plt.title('Confusion Matrix')"
      ],
      "execution_count": 2,
      "outputs": []
    },
    {
      "cell_type": "markdown",
      "metadata": {
        "id": "ZbceCf7ZzGiG"
      },
      "source": [
        "#RandomForest"
      ]
    },
    {
      "cell_type": "code",
      "metadata": {
        "id": "CAmpEBPyTu-F"
      },
      "source": [
        "#RandomForest\n",
        "rf_classifier = RandomForestClassifier()\n",
        "# rf_classifier.fit(X_train, y_train.values.ravel())\n",
        "# y_pred = rf_classifier.predict(X_test)\n",
        "\n",
        "#Hyper parameters\n",
        "params_rf={\n",
        "    'min_samples_leaf': [int(x) for x in np.linspace(start = 1, stop = 3, num = 10)],\n",
        "    'n_estimators': [int(x) for x in np.linspace(start = 10, stop = 500, num = 10)],\n",
        "    'max_features': [int(x) for x in np.linspace(start = 1, stop = 8, num = 8)],\n",
        "    'bootstrap': [True, False],\n",
        "    'criterion': ['gini','entropy'],\n",
        "}\n",
        "\n",
        "rf_random = RandomizedSearchCV(estimator = rf_classifier, param_distributions = params_rf,  cv = 5)\n",
        "rf_random.fit(X_train,y_train)"
      ],
      "execution_count": null,
      "outputs": []
    },
    {
      "cell_type": "code",
      "metadata": {
        "id": "Ys12vrS46dK8"
      },
      "source": [
        "#Results\n",
        "result(rf_random)\n",
        "cf_mat(y_test,y_pred)"
      ],
      "execution_count": null,
      "outputs": []
    },
    {
      "cell_type": "markdown",
      "metadata": {
        "id": "IAHP9mnOE4oE"
      },
      "source": [
        "#RandomForest Plotting"
      ]
    },
    {
      "cell_type": "code",
      "metadata": {
        "id": "h3rUxwmQFzD-",
        "colab": {
          "base_uri": "https://localhost:8080/",
          "height": 575
        },
        "outputId": "bfeb4cc3-f46b-4e6c-9211-6855e3f84667"
      },
      "source": [
        "import sklearn\n",
        "n_estimators = [int(x) for x in np.linspace(start = 10, stop = 500, num = 2)]\n",
        "max_features = [int(x) for x in np.linspace(start = 1, stop = 8, num = 2)]\n",
        "accuracies = np.empty((len(max_features), len(n_estimators), 2))\n",
        "\n",
        "for i, max_f in enumerate(max_features):\n",
        "  for j, n_estimator in enumerate(n_estimators):\n",
        "    clf_Rand = sklearn.ensemble.RandomForestClassifier(random_state=0, max_features=max_f, n_estimators=n_estimator)\n",
        "    clf_Rand.fit(X_train, y_train)\n",
        "    accuracies[i,j,0] = sklearn.metrics.accuracy_score(y_train, clf_Rand.predict(X_train))\n",
        "    accuracies[i,j,1] = sklearn.metrics.accuracy_score(y_test, clf_Rand.predict(X_test))\n",
        "    \n",
        "# Your plotting code here. Aim for 8-10 lines.\n",
        "for i, name in enumerate(['training', 'test']):\n",
        "    plt.figure()\n",
        "    plt.imshow(accuracies[:,:,i], origin='lower')\n",
        "    plt.colorbar();\n",
        "    plt.xlabel('n_estimators')\n",
        "    plt.ylabel('max_features')\n",
        "    plt.xticks(range(len(n_estimators)), labels=n_estimators)\n",
        "    plt.yticks(range(len(max_features)), labels=max_features)\n",
        "    plt.title(\"Accuracy on %s data\" % name)"
      ],
      "execution_count": null,
      "outputs": [
        {
          "output_type": "display_data",
          "data": {
            "image/png": "[encoded data removed]",
            "text/plain": [
              "<Figure size 432x288 with 2 Axes>"
            ]
          },
          "metadata": {
            "tags": [],
            "needs_background": "light"
          }
        },
        {
          "output_type": "display_data",
          "data": {
            "image/png": "[encoded data removed]",
            "text/plain": [
              "<Figure size 432x288 with 2 Axes>"
            ]
          },
          "metadata": {
            "tags": [],
            "needs_background": "light"
          }
        }
      ]
    },
    {
      "cell_type": "markdown",
      "metadata": {
        "id": "-Ad_gPJXzDiv"
      },
      "source": [
        "#KNN"
      ]
    },
    {
      "cell_type": "code",
      "metadata": {
        "id": "hYgzL0ToTu-H"
      },
      "source": [
        "#knn\n",
        "knn_classifier=KNeighborsClassifier()\n",
        "# knn_classifier.fit(X_train,y_train.values.ravel())\n",
        "# y_pred=knn_classifier.predict(X_test)\n",
        "\n",
        "#Hyperparameters\n",
        "params_knn={\n",
        "    'n_neighbors': [int(x) for x in np.linspace(start = 1, stop = 10, num = 5)],\n",
        "    'weights': ['uniform', 'distance'],\n",
        "    'algorithm': ['auto', 'ball_tree', 'kd_tree', 'brute'],\n",
        "}\n",
        "\n",
        "knn_random = RandomizedSearchCV(estimator = knn_classifier, param_distributions = params_knn, n_iter = 50, cv = 5, \n",
        "                               verbose=2, random_state=0, n_jobs = -1,return_train_score=True)\n",
        "knn_random.fit(X_train,y_train)\n",
        "\n"
      ],
      "execution_count": null,
      "outputs": []
    },
    {
      "cell_type": "code",
      "metadata": {
        "id": "j2ca2TA5Tu-H"
      },
      "source": [
        "#Results\n",
        "result(knn_random)\n",
        "cf_mat(y_test,y_pred)"
      ],
      "execution_count": null,
      "outputs": []
    },
    {
      "cell_type": "markdown",
      "metadata": {
        "id": "aYlPVrHD2zgb"
      },
      "source": [
        "#KNeighborsClassifier Plotting\n",
        "\n",
        "\n"
      ]
    },
    {
      "cell_type": "code",
      "metadata": {
        "colab": {
          "base_uri": "https://localhost:8080/",
          "height": 489
        },
        "id": "CF1kIHIG2tNL",
        "outputId": "65f754ca-cfc5-4c0f-89c3-e8df2768b5e6"
      },
      "source": [
        "import sklearn\n",
        "n_neighbors= [int(x) for x in np.linspace(start = 1, stop = 10, num = 5)]\n",
        "weights = ['uniform', 'distance']\n",
        "accuracies = np.empty((len(weights), len(n_neighbors), 2))\n",
        "\n",
        "for i, weight in enumerate(weights):\n",
        "  for j, n_neighbor in enumerate(n_neighbors):\n",
        "    clf_knn = KNeighborsClassifier(n_neighbors=n_neighbor,weights=weight)\n",
        "    clf_knn.fit(X_train, y_train)\n",
        "    accuracies[i,j,0] = sklearn.metrics.accuracy_score(y_train, clf_knn.predict(X_train))\n",
        "    accuracies[i,j,1] = sklearn.metrics.accuracy_score(y_test, clf_knn.predict(X_test))\n",
        "    \n",
        "# Your plotting code here. Aim for 8-10 lines.\n",
        "for i, name in enumerate(['training', 'test']):\n",
        "    plt.figure()\n",
        "    plt.imshow(accuracies[:,:,i], origin='lower')\n",
        "    plt.colorbar();\n",
        "    plt.xlabel('n_neighbors')\n",
        "    plt.ylabel('weights')\n",
        "    plt.xticks(range(len(n_neighbors)), labels=n_neighbors)\n",
        "    plt.yticks(range(len(weights)), labels=weights)\n",
        "    plt.title(\"Accuracy on %s data\" % name)"
      ],
      "execution_count": null,
      "outputs": [
        {
          "output_type": "display_data",
          "data": {
            "image/png": "[encoded data removed]",
            "text/plain": [
              "<Figure size 432x288 with 2 Axes>"
            ]
          },
          "metadata": {
            "tags": [],
            "needs_background": "light"
          }
        },
        {
          "output_type": "display_data",
          "data": {
            "image/png": "[encoded data removed]",
            "text/plain": [
              "<Figure size 432x288 with 2 Axes>"
            ]
          },
          "metadata": {
            "tags": [],
            "needs_background": "light"
          }
        }
      ]
    },
    {
      "cell_type": "markdown",
      "metadata": {
        "id": "EAQlGl9w35eu"
      },
      "source": [
        "#AdaBoostClassifier"
      ]
    },
    {
      "cell_type": "code",
      "metadata": {
        "id": "jO482xUWTu-H"
      },
      "source": [
        "#AdaBoost\n",
        "ab_classifier = AdaBoostClassifier()\n",
        "# ab_classifier.fit(X_train, y_train.values.ravel())\n",
        "# y_pred = ab_classifier.predict(X_test)\n",
        "\n",
        "#Hyperparameters\n",
        "params_ab={\n",
        "    'n_estimators': [int(x) for x in np.linspace(start = 10, stop = 500, num = 10)],\n",
        "    'learning_rate': scipy.stats.reciprocal(0.01, 1.0),\n",
        "    'algorithm': ['SAMME.R', 'SAMME'],\n",
        "    'random_state': [int(x) for x in np.linspace(start = 1, stop = 10, num = 10)]\n",
        "}\n",
        "\n",
        "ab_random = RandomizedSearchCV(estimator = ab_classifier, param_distributions = params_ab, n_iter = 50, cv = 3, \n",
        "                               verbose=2, random_state=0, n_jobs = -1)\n",
        "ab_random.fit(X_train,y_train);"
      ],
      "execution_count": null,
      "outputs": []
    },
    {
      "cell_type": "code",
      "metadata": {
        "id": "3GRz7HueTu-H"
      },
      "source": [
        "#Results\n",
        "result(ab_random)\n",
        "cf_mat(y_test,y_pred)"
      ],
      "execution_count": null,
      "outputs": []
    },
    {
      "cell_type": "markdown",
      "metadata": {
        "id": "kUdKOSDx37CL"
      },
      "source": [
        "#AdaBoostClassifier Plotting"
      ]
    },
    {
      "cell_type": "code",
      "metadata": {
        "colab": {
          "base_uri": "https://localhost:8080/",
          "height": 575
        },
        "id": "KleOvG5p4EMU",
        "outputId": "4dfccbe0-73b2-4210-f7e4-335d111b222e"
      },
      "source": [
        "import sklearn\n",
        "n_estimators = [int(x) for x in np.linspace(start = 10, stop = 500, num = 2)]\n",
        "algorithms =  ['SAMME.R', 'SAMME']\n",
        "accuracies = np.empty((len(algorithms), len(n_estimators), 2))\n",
        "\n",
        "for i, algorithm in enumerate(algorithms):\n",
        "  for j, n_estimator in enumerate(n_estimators):\n",
        "    clf_adaboost = AdaBoostClassifier(n_estimators=n_estimator,algorithm=algorithm)\n",
        "    clf_adaboost.fit(X_train, y_train)\n",
        "    accuracies[i,j,0] = sklearn.metrics.accuracy_score(y_train, clf_adaboost.predict(X_train))\n",
        "    accuracies[i,j,1] = sklearn.metrics.accuracy_score(y_test, clf_adaboost.predict(X_test))\n",
        "    \n",
        "# Your plotting code here. Aim for 8-10 lines.\n",
        "for i, name in enumerate(['training', 'test']):\n",
        "    plt.figure()\n",
        "    plt.imshow(accuracies[:,:,i], origin='lower')\n",
        "    plt.colorbar();\n",
        "    plt.xlabel('n_estimators')\n",
        "    plt.ylabel('algorithms')\n",
        "    plt.xticks(range(len(n_estimators)), labels=n_estimators)\n",
        "    plt.yticks(range(len(algorithms)), labels=algorithms)\n",
        "    plt.title(\"Accuracy on %s data\" % name)"
      ],
      "execution_count": null,
      "outputs": [
        {
          "output_type": "display_data",
          "data": {
            "image/png": "[encoded data removed]",
            "text/plain": [
              "<Figure size 432x288 with 2 Axes>"
            ]
          },
          "metadata": {
            "tags": [],
            "needs_background": "light"
          }
        },
        {
          "output_type": "display_data",
          "data": {
            "image/png": "[encoded data removed]",
            "text/plain": [
              "<Figure size 432x288 with 2 Axes>"
            ]
          },
          "metadata": {
            "tags": [],
            "needs_background": "light"
          }
        }
      ]
    }
  ]
}
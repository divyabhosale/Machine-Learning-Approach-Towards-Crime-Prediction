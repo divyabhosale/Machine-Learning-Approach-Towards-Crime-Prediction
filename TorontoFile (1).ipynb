{
  "nbformat": 4,
  "nbformat_minor": 0,
  "metadata": {
    "accelerator": "GPU",
    "colab": {
      "name": "TorontoFile.ipynb",
      "provenance": [],
      "collapsed_sections": []
    },
    "kernelspec": {
      "display_name": "Python 3",
      "name": "python3"
    }
  },
  "cells": [
    {
      "cell_type": "code",
      "metadata": {
        "id": "RZ1W22xxIUPA",
        "colab": {
          "base_uri": "https://localhost:8080/"
        },
        "outputId": "68c0e095-2358-4680-f9c7-82dab125d617"
      },
      "source": [
        "!pip install apyori\n",
        "import numpy as np\n",
        "import matplotlib.pyplot as plt\n",
        "import sklearn\n",
        "import pandas as pd\n",
        "from apyori import apriori\n",
        "from itertools import combinations\n",
        "from operator import itemgetter\n",
        "from sklearn.model_selection import train_test_split\n",
        "from sklearn.preprocessing import OneHotEncoder\n",
        "from sklearn.ensemble import RandomForestClassifier\n",
        "from sklearn.ensemble import GradientBoostingClassifier\n",
        "from sklearn.metrics import confusion_matrix, classification_report, accuracy_score\n",
        "from sklearn.model_selection import KFold\n",
        "from sklearn.model_selection import GridSearchCV\n",
        "from sklearn.pipeline import Pipeline\n",
        "from tempfile import mkdtemp\n",
        "from sklearn.neighbors import KNeighborsClassifier\n",
        "from sklearn.ensemble import AdaBoostClassifier\n",
        "from sklearn.ensemble import RandomForestClassifier"
      ],
      "execution_count": 1,
      "outputs": [
        {
          "output_type": "stream",
          "text": [
            "Collecting apyori\n",
            "  Downloading https://files.pythonhosted.org/packages/5e/62/5ffde5c473ea4b033490617ec5caa80d59804875ad3c3c57c0976533a21a/apyori-1.1.2.tar.gz\n",
            "Building wheels for collected packages: apyori\n",
            "  Building wheel for apyori (setup.py) ... \u001b[?25l\u001b[?25hdone\n",
            "  Created wheel for apyori: filename=apyori-1.1.2-cp36-none-any.whl size=5975 sha256=2f5e98a875e2617d56ebe03d0e814728c49fb547fb1809b0f2e575b6f51f3ff2\n",
            "  Stored in directory: /root/.cache/pip/wheels/5d/92/bb/474bbadbc8c0062b9eb168f69982a0443263f8ab1711a8cad0\n",
            "Successfully built apyori\n",
            "Installing collected packages: apyori\n",
            "Successfully installed apyori-1.1.2\n"
          ],
          "name": "stdout"
        }
      ]
    },
    {
      "cell_type": "code",
      "metadata": {
        "id": "cZ2Us1O2LwzY",
        "colab": {
          "base_uri": "https://localhost:8080/"
        },
        "outputId": "868f735e-9b67-4a13-f6b3-602c26425377"
      },
      "source": [
        "%cd 'drive/My Drive/Colab Notebooks/ML TOR'\n",
        "!pwd"
      ],
      "execution_count": 2,
      "outputs": [
        {
          "output_type": "stream",
          "text": [
            "/content/drive/My Drive/Colab Notebooks/ML TOR\n",
            "/content/drive/My Drive/Colab Notebooks/ML TOR\n"
          ],
          "name": "stdout"
        }
      ]
    },
    {
      "cell_type": "code",
      "metadata": {
        "id": "tgy3NQWzIhBF"
      },
      "source": [
        "df = pd.read_csv( 'TorontoData.csv')\n"
      ],
      "execution_count": 3,
      "outputs": []
    },
    {
      "cell_type": "code",
      "metadata": {
        "id": "-4U-G62xL7Xh",
        "colab": {
          "base_uri": "https://localhost:8080/",
          "height": 366
        },
        "outputId": "3152b3ff-9259-452d-cfb3-b633b29bf801"
      },
      "source": [
        "df.head()"
      ],
      "execution_count": 4,
      "outputs": [
        {
          "output_type": "execute_result",
          "data": {
            "text/html": [
              "<div>\n",
              "<style scoped>\n",
              "    .dataframe tbody tr th:only-of-type {\n",
              "        vertical-align: middle;\n",
              "    }\n",
              "\n",
              "    .dataframe tbody tr th {\n",
              "        vertical-align: top;\n",
              "    }\n",
              "\n",
              "    .dataframe thead th {\n",
              "        text-align: right;\n",
              "    }\n",
              "</style>\n",
              "<table border=\"1\" class=\"dataframe\">\n",
              "  <thead>\n",
              "    <tr style=\"text-align: right;\">\n",
              "      <th></th>\n",
              "      <th>X</th>\n",
              "      <th>Y</th>\n",
              "      <th>Index_</th>\n",
              "      <th>event_unique_id</th>\n",
              "      <th>occurrencedate</th>\n",
              "      <th>reporteddate</th>\n",
              "      <th>premisetype</th>\n",
              "      <th>ucr_code</th>\n",
              "      <th>ucr_ext</th>\n",
              "      <th>offence</th>\n",
              "      <th>reportedyear</th>\n",
              "      <th>reportedmonth</th>\n",
              "      <th>reportedday</th>\n",
              "      <th>reporteddayofyear</th>\n",
              "      <th>reporteddayofweek</th>\n",
              "      <th>reportedhour</th>\n",
              "      <th>occurrenceyear</th>\n",
              "      <th>occurrencemonth</th>\n",
              "      <th>occurrenceday</th>\n",
              "      <th>occurrencedayofyear</th>\n",
              "      <th>occurrencedayofweek</th>\n",
              "      <th>occurrencehour</th>\n",
              "      <th>MCI</th>\n",
              "      <th>Division</th>\n",
              "      <th>Hood_ID</th>\n",
              "      <th>Neighbourhood</th>\n",
              "      <th>Long</th>\n",
              "      <th>Lat</th>\n",
              "      <th>ObjectId</th>\n",
              "    </tr>\n",
              "  </thead>\n",
              "  <tbody>\n",
              "    <tr>\n",
              "      <th>0</th>\n",
              "      <td>-8816401.413</td>\n",
              "      <td>5434587.125</td>\n",
              "      <td>701</td>\n",
              "      <td>GO-20141756319</td>\n",
              "      <td>2014/03/24 00:00:00+00</td>\n",
              "      <td>2014/03/24 00:00:00+00</td>\n",
              "      <td>Commercial</td>\n",
              "      <td>1430</td>\n",
              "      <td>100</td>\n",
              "      <td>Assault</td>\n",
              "      <td>2014</td>\n",
              "      <td>March</td>\n",
              "      <td>24</td>\n",
              "      <td>83</td>\n",
              "      <td>Monday</td>\n",
              "      <td>3</td>\n",
              "      <td>2014.0</td>\n",
              "      <td>March</td>\n",
              "      <td>24.0</td>\n",
              "      <td>83.0</td>\n",
              "      <td>Monday</td>\n",
              "      <td>1</td>\n",
              "      <td>Assault</td>\n",
              "      <td>D42</td>\n",
              "      <td>132</td>\n",
              "      <td>Malvern (132)</td>\n",
              "      <td>-79.199081</td>\n",
              "      <td>43.800281</td>\n",
              "      <td>1</td>\n",
              "    </tr>\n",
              "    <tr>\n",
              "      <th>1</th>\n",
              "      <td>-8837251.743</td>\n",
              "      <td>5413356.630</td>\n",
              "      <td>901</td>\n",
              "      <td>GO-20143006885</td>\n",
              "      <td>2014/09/27 00:00:00+00</td>\n",
              "      <td>2014/09/29 00:00:00+00</td>\n",
              "      <td>Other</td>\n",
              "      <td>2120</td>\n",
              "      <td>200</td>\n",
              "      <td>B&amp;E</td>\n",
              "      <td>2014</td>\n",
              "      <td>September</td>\n",
              "      <td>29</td>\n",
              "      <td>272</td>\n",
              "      <td>Monday</td>\n",
              "      <td>10</td>\n",
              "      <td>2014.0</td>\n",
              "      <td>September</td>\n",
              "      <td>27.0</td>\n",
              "      <td>270.0</td>\n",
              "      <td>Saturday</td>\n",
              "      <td>16</td>\n",
              "      <td>Break and Enter</td>\n",
              "      <td>D52</td>\n",
              "      <td>76</td>\n",
              "      <td>Bay Street Corridor (76)</td>\n",
              "      <td>-79.386383</td>\n",
              "      <td>43.662472</td>\n",
              "      <td>2</td>\n",
              "    </tr>\n",
              "    <tr>\n",
              "      <th>2</th>\n",
              "      <td>-8862433.492</td>\n",
              "      <td>5422275.764</td>\n",
              "      <td>702</td>\n",
              "      <td>GO-20141756802</td>\n",
              "      <td>2014/03/24 00:00:00+00</td>\n",
              "      <td>2014/03/24 00:00:00+00</td>\n",
              "      <td>Commercial</td>\n",
              "      <td>2120</td>\n",
              "      <td>200</td>\n",
              "      <td>B&amp;E</td>\n",
              "      <td>2014</td>\n",
              "      <td>March</td>\n",
              "      <td>24</td>\n",
              "      <td>83</td>\n",
              "      <td>Monday</td>\n",
              "      <td>7</td>\n",
              "      <td>2014.0</td>\n",
              "      <td>March</td>\n",
              "      <td>24.0</td>\n",
              "      <td>83.0</td>\n",
              "      <td>Monday</td>\n",
              "      <td>6</td>\n",
              "      <td>Break and Enter</td>\n",
              "      <td>D23</td>\n",
              "      <td>1</td>\n",
              "      <td>West Humber-Clairville (1)</td>\n",
              "      <td>-79.612595</td>\n",
              "      <td>43.720406</td>\n",
              "      <td>3</td>\n",
              "    </tr>\n",
              "    <tr>\n",
              "      <th>3</th>\n",
              "      <td>-8833103.756</td>\n",
              "      <td>5431886.975</td>\n",
              "      <td>703</td>\n",
              "      <td>GO-20141760570</td>\n",
              "      <td>2014/03/24 00:00:00+00</td>\n",
              "      <td>2014/03/24 00:00:00+00</td>\n",
              "      <td>Apartment</td>\n",
              "      <td>2120</td>\n",
              "      <td>200</td>\n",
              "      <td>B&amp;E</td>\n",
              "      <td>2014</td>\n",
              "      <td>March</td>\n",
              "      <td>24</td>\n",
              "      <td>83</td>\n",
              "      <td>Monday</td>\n",
              "      <td>23</td>\n",
              "      <td>2014.0</td>\n",
              "      <td>March</td>\n",
              "      <td>24.0</td>\n",
              "      <td>83.0</td>\n",
              "      <td>Monday</td>\n",
              "      <td>15</td>\n",
              "      <td>Break and Enter</td>\n",
              "      <td>D33</td>\n",
              "      <td>47</td>\n",
              "      <td>Don Valley Village (47)</td>\n",
              "      <td>-79.349121</td>\n",
              "      <td>43.782772</td>\n",
              "      <td>4</td>\n",
              "    </tr>\n",
              "    <tr>\n",
              "      <th>4</th>\n",
              "      <td>-8845310.751</td>\n",
              "      <td>5413667.148</td>\n",
              "      <td>902</td>\n",
              "      <td>GO-20142004859</td>\n",
              "      <td>2014/05/03 00:00:00+00</td>\n",
              "      <td>2014/05/03 00:00:00+00</td>\n",
              "      <td>Commercial</td>\n",
              "      <td>1610</td>\n",
              "      <td>210</td>\n",
              "      <td>Robbery - Business</td>\n",
              "      <td>2014</td>\n",
              "      <td>May</td>\n",
              "      <td>3</td>\n",
              "      <td>123</td>\n",
              "      <td>Saturday</td>\n",
              "      <td>2</td>\n",
              "      <td>2014.0</td>\n",
              "      <td>May</td>\n",
              "      <td>3.0</td>\n",
              "      <td>123.0</td>\n",
              "      <td>Saturday</td>\n",
              "      <td>2</td>\n",
              "      <td>Robbery</td>\n",
              "      <td>D11</td>\n",
              "      <td>90</td>\n",
              "      <td>Junction Area (90)</td>\n",
              "      <td>-79.458778</td>\n",
              "      <td>43.664490</td>\n",
              "      <td>5</td>\n",
              "    </tr>\n",
              "  </tbody>\n",
              "</table>\n",
              "</div>"
            ],
            "text/plain": [
              "             X            Y  Index_  ...       Long        Lat ObjectId\n",
              "0 -8816401.413  5434587.125     701  ... -79.199081  43.800281        1\n",
              "1 -8837251.743  5413356.630     901  ... -79.386383  43.662472        2\n",
              "2 -8862433.492  5422275.764     702  ... -79.612595  43.720406        3\n",
              "3 -8833103.756  5431886.975     703  ... -79.349121  43.782772        4\n",
              "4 -8845310.751  5413667.148     902  ... -79.458778  43.664490        5\n",
              "\n",
              "[5 rows x 29 columns]"
            ]
          },
          "metadata": {
            "tags": []
          },
          "execution_count": 4
        }
      ]
    },
    {
      "cell_type": "markdown",
      "metadata": {
        "id": "j1pz1npDUbT6"
      },
      "source": [
        "#Data Processing"
      ]
    },
    {
      "cell_type": "code",
      "metadata": {
        "id": "VqnPIbsEQnZQ"
      },
      "source": [
        "# Columns for the models\n",
        "col_list = ['occurrenceyear',\t'occurrencemonth','occurrenceday','occurrencedayofyear','occurrencedayofweek','occurrencehour','MCI',\t'Division',\t'Hood_ID','premisetype']\n",
        "\n",
        "# New dataframe from columns\n",
        "df2 = df[col_list]\n",
        "df2 = df2[df2['occurrenceyear'] > 2013]\n",
        "\n",
        "#Factorize\n",
        "crime_var = pd.factorize(df2['MCI'])\n",
        "df2['MCI'] = crime_var[0]\n",
        "definition_list_MCI = crime_var[1]\n",
        "\n",
        "premise_var = pd.factorize(df2['premisetype'])\n",
        "df2['premisetype'] = premise_var[0]\n",
        "definition_list_premise = premise_var[1] \n",
        "\n",
        "year_var = pd.factorize(df2['occurrenceyear'])\n",
        "df2['occurrenceyear'] = year_var[0]\n",
        "definition_list_year = year_var[1] \n",
        "\n",
        "month_var = pd.factorize(df2['occurrencemonth'])\n",
        "df2['occurrencemonth'] = month_var[0]\n",
        "definition_list_month = month_var[1] \n",
        "\n",
        "day_var = pd.factorize(df2['occurrenceday'])\n",
        "df2['occurenceday'] = day_var[0]\n",
        "definition_list_day = day_var[1] \n",
        "\n",
        "dayweek_var = pd.factorize(df2['occurrencedayofweek'])\n",
        "df2['occurrencedayofweek'] = dayweek_var[0]\n",
        "definition_list_day = dayweek_var[1] \n",
        "\n",
        "division_var = pd.factorize(df2['Division'])\n",
        "df2['Division'] = division_var[0]\n",
        "definition_list_division = division_var[1] \n",
        "\n",
        "hood_var = pd.factorize(df2['Hood_ID'])\n",
        "df2['Hood_ID'] = hood_var[0]\n",
        "definition_list_hood = hood_var[1] \n",
        "\n",
        "hour_var = pd.factorize(df2['occurrencehour'])\n",
        "df2['occurrencehour'] = hour_var[0]\n",
        "definition_list_hour = hour_var[1] \n",
        "\n",
        "dayyear_var = pd.factorize(df2['occurrencedayofyear'])\n",
        "df2['occurrencedayofyear'] = dayyear_var[0]\n",
        "definition_list_dayyear = dayyear_var[1]\n",
        "\n",
        "\n"
      ],
      "execution_count": 5,
      "outputs": []
    },
    {
      "cell_type": "markdown",
      "metadata": {
        "id": "Lp7Xgdb8UlAf"
      },
      "source": [
        "#Splitting the dataset into training and tests set"
      ]
    },
    {
      "cell_type": "code",
      "metadata": {
        "id": "X4MPijkUUmsl"
      },
      "source": [
        "#set X and Y:\n",
        "X = df2.drop(['MCI'],axis=1).values\n",
        "y = df2['MCI'].values\n",
        "\n",
        "#split the data into train and test sets for numeric encoded dataset:\n",
        "X_train, X_test, y_train, y_test = train_test_split(X, y, test_size = 0.25, random_state = 21)\n",
        "\n",
        "#need to OneHotEncode all the X variables for input into the classification model:\n",
        "binary_encoder = OneHotEncoder(sparse=False,categories='auto')\n",
        "encoded_X = binary_encoder.fit_transform(X)\n",
        "X_train_OH, X_test_OH, y_train_OH, y_test_OH = train_test_split(encoded_X, y, test_size = 0.3, random_state = 21)"
      ],
      "execution_count": 6,
      "outputs": []
    },
    {
      "cell_type": "markdown",
      "metadata": {
        "id": "cDeDJLArU9n3"
      },
      "source": [
        "#RandomForestClassifier"
      ]
    },
    {
      "cell_type": "code",
      "metadata": {
        "id": "O0sZruxGVWBe",
        "colab": {
          "base_uri": "https://localhost:8080/"
        },
        "outputId": "2a9aada4-bfcc-4bc2-a726-ebee07d2eeab"
      },
      "source": [
        "#Balanced Class Weight doesn't make a big difference for results:\n",
        "classifier = RandomForestClassifier(n_estimators = 100, criterion = 'entropy', random_state = 0)\n",
        "classifier.fit(X_train, y_train)\n",
        "y_pred = classifier.predict(X_test) \n",
        "y_pred\n"
      ],
      "execution_count": 12,
      "outputs": [
        {
          "output_type": "execute_result",
          "data": {
            "text/plain": [
              "array([1, 0, 4, ..., 4, 0, 2])"
            ]
          },
          "metadata": {
            "tags": []
          },
          "execution_count": 12
        }
      ]
    },
    {
      "cell_type": "code",
      "metadata": {
        "id": "yVdvnudpxxx_",
        "colab": {
          "base_uri": "https://localhost:8080/"
        },
        "outputId": "63e64f5e-8e8b-4c47-8072-5149c7e3cec4"
      },
      "source": [
        "print(\"Accuracy of Random Forest Training: \",classifier.score(X_train, y_train)* 100)\n",
        "print(\"Accuracy of Random Forest: \",accuracy_score(y_test, y_pred)* 100)\n",
        "\n",
        "print(confusion_matrix(y_test, y_pred)) \n",
        "print(classification_report(y_test,y_pred, target_names=definition_list_MCI))"
      ],
      "execution_count": 14,
      "outputs": [
        {
          "output_type": "stream",
          "text": [
            "Accuracy of Random Forest Training:  98.61484511981298\n",
            "Accuracy of Random Forest:  63.78017182599209\n",
            "[[23917  2186   631    53   819]\n",
            " [ 5460  5057    53    50   263]\n",
            " [ 2964   330  1639    19   388]\n",
            " [ 1098   374    34    26   129]\n",
            " [ 2766   707   239    29  2100]]\n",
            "                 precision    recall  f1-score   support\n",
            "\n",
            "        Assault       0.66      0.87      0.75     27606\n",
            "Break and Enter       0.58      0.46      0.52     10883\n",
            "        Robbery       0.63      0.31      0.41      5340\n",
            "     Theft Over       0.15      0.02      0.03      1661\n",
            "     Auto Theft       0.57      0.36      0.44      5841\n",
            "\n",
            "       accuracy                           0.64     51331\n",
            "      macro avg       0.52      0.40      0.43     51331\n",
            "   weighted avg       0.61      0.64      0.61     51331\n",
            "\n"
          ],
          "name": "stdout"
        }
      ]
    },
    {
      "cell_type": "markdown",
      "metadata": {
        "id": "5-ub0dxZxPL4"
      },
      "source": [
        "#KNN"
      ]
    },
    {
      "cell_type": "code",
      "metadata": {
        "id": "jDnPrNyaxOeO",
        "colab": {
          "base_uri": "https://localhost:8080/"
        },
        "outputId": "b5a51b88-fb96-4ead-93d4-d275aaa4aa80"
      },
      "source": [
        "from sklearn.neighbors import KNeighborsClassifier\n",
        "classifier = KNeighborsClassifier(n_neighbors=2)\n",
        "classifier.fit(X_train, y_train)"
      ],
      "execution_count": 7,
      "outputs": [
        {
          "output_type": "execute_result",
          "data": {
            "text/plain": [
              "KNeighborsClassifier(algorithm='auto', leaf_size=30, metric='minkowski',\n",
              "                     metric_params=None, n_jobs=None, n_neighbors=2, p=2,\n",
              "                     weights='uniform')"
            ]
          },
          "metadata": {
            "tags": []
          },
          "execution_count": 7
        }
      ]
    },
    {
      "cell_type": "code",
      "metadata": {
        "id": "3aDSTAu8xTbh",
        "colab": {
          "base_uri": "https://localhost:8080/"
        },
        "outputId": "9c5ea949-b56c-4af1-918a-0d12bb14a68a"
      },
      "source": [
        "y_pred = classifier.predict(X_test)\n",
        "y_pred"
      ],
      "execution_count": 8,
      "outputs": [
        {
          "output_type": "execute_result",
          "data": {
            "text/plain": [
              "array([1, 0, 0, ..., 4, 0, 0])"
            ]
          },
          "metadata": {
            "tags": []
          },
          "execution_count": 8
        }
      ]
    },
    {
      "cell_type": "code",
      "metadata": {
        "id": "JtWlZqFyxWOm",
        "colab": {
          "base_uri": "https://localhost:8080/"
        },
        "outputId": "57805e4c-e6b3-4451-d696-78315b91f516"
      },
      "source": [
        "from sklearn.metrics import classification_report, confusion_matrix\n",
        "print(\"Accuracy of KNN Training: \",classifier.score(X_train, y_train)* 100)\n",
        "print(\"Accuracy of KNN: \",accuracy_score(y_test, y_pred)* 100)\n",
        "print(confusion_matrix(y_test, y_pred))\n",
        "print(classification_report(y_test, y_pred))"
      ],
      "execution_count": 9,
      "outputs": [
        {
          "output_type": "stream",
          "text": [
            "Accuracy of KNN Training:  0.7285602961231249\n",
            "Accuracy of KNN:  0.515672790321638\n",
            "[[22858  3159  1002   165   422]\n",
            " [ 7944  2242   418    76   203]\n",
            " [ 3524   774   911    30   101]\n",
            " [ 1249   284    64    28    36]\n",
            " [ 4040   976   303    91   431]]\n",
            "              precision    recall  f1-score   support\n",
            "\n",
            "           0       0.58      0.83      0.68     27606\n",
            "           1       0.30      0.21      0.24     10883\n",
            "           2       0.34      0.17      0.23      5340\n",
            "           3       0.07      0.02      0.03      1661\n",
            "           4       0.36      0.07      0.12      5841\n",
            "\n",
            "    accuracy                           0.52     51331\n",
            "   macro avg       0.33      0.26      0.26     51331\n",
            "weighted avg       0.45      0.52      0.46     51331\n",
            "\n"
          ],
          "name": "stdout"
        }
      ]
    },
    {
      "cell_type": "markdown",
      "metadata": {
        "id": "v0gghRUW0thw"
      },
      "source": [
        "#AdaBoostClassifier"
      ]
    },
    {
      "cell_type": "code",
      "metadata": {
        "id": "fHlBrNd80xxl",
        "colab": {
          "base_uri": "https://localhost:8080/"
        },
        "outputId": "8c0b7284-d306-4221-e130-5a8f2fa91dbd"
      },
      "source": [
        "from sklearn.ensemble import AdaBoostClassifier\n",
        "# Create adaboost classifer object\n",
        "abc = AdaBoostClassifier(n_estimators=100,learning_rate=0.001)\n",
        "# Train Adaboost Classifer\n",
        "model = abc.fit(X_train, y_train)\n",
        "\n",
        "#Predict the response for test dataset\n",
        "y_pred = model.predict(X_test)\n",
        "y_pred"
      ],
      "execution_count": 10,
      "outputs": [
        {
          "output_type": "execute_result",
          "data": {
            "text/plain": [
              "array([0, 0, 0, ..., 0, 0, 0])"
            ]
          },
          "metadata": {
            "tags": []
          },
          "execution_count": 10
        }
      ]
    },
    {
      "cell_type": "code",
      "metadata": {
        "id": "ntk4YW_-1WOW",
        "colab": {
          "base_uri": "https://localhost:8080/"
        },
        "outputId": "e2f716a4-a4c5-4fd8-e9bd-3aff3569b6e7"
      },
      "source": [
        "print(\"Accuracy of AdaBoostClassifier Training: \",classifier.score(X_train, y_train) * 100)\n",
        "print(\"Accuracy of AdaBoostClassifier: \",accuracy_score(y_test, y_pred) * 100)"
      ],
      "execution_count": 11,
      "outputs": [
        {
          "output_type": "stream",
          "text": [
            "Accuracy of AdaBoostClassifier Training:  0.7285602961231249\n",
            "Accuracy of AdaBoostClassifier:  0.5378036664004208\n"
          ],
          "name": "stdout"
        }
      ]
    },
    {
      "cell_type": "markdown",
      "metadata": {
        "id": "S2kln18g9KNF"
      },
      "source": [
        "#Hyperparameter Tunnning"
      ]
    },
    {
      "cell_type": "code",
      "metadata": {
        "id": "qZMziWaN9PbQ"
      },
      "source": [
        "cachedir = mkdtemp()\n",
        "pipe = Pipeline([('classify', RandomForestClassifier())],\n",
        "                memory=cachedir)\n",
        "# Hyperparameter Optimization\n",
        "tuned_parameters = [\n",
        "    # KNN Classifier(2,3,4)\n",
        "    {\n",
        "        'classify': [KNeighborsClassifier()],\n",
        "        'classify__n_neighbors': [1,2]\n",
        "    },\n",
        "    #RandomForestClassifier\n",
        "    {\n",
        "        'classify': [RandomForestClassifier()],\n",
        "        'classify__n_estimators': [100, 300],\n",
        "        \"classify__criterion\":['gini', 'entropy'],\n",
        "       # \"classify__max_depth\":[5,8,15,25,30,None],\n",
        "       # \"classify__min_samples_leaf\":[1,2,5,10,15,100],\n",
        "       # \"classify__max_leaf_nodes\": [2, 5,10]\n",
        "        \n",
        "    },\n",
        "    #AdaBoostClassifier\n",
        "    {\n",
        "        'classify': [AdaBoostClassifier()],\n",
        "        'classify__n_estimators': [100],\n",
        "       # 'classify__learning_rate': [1.0]\n",
        "    }\n",
        "]\n",
        "\n",
        "# Model Selection using Pipeline and Cross validation\n",
        "kfolds = KFold(n_splits=5, shuffle=True, random_state=50)\n",
        "model = GridSearchCV(pipe, tuned_parameters, cv=kfolds,\n",
        "                     return_train_score=True)\n",
        "model.fit(X_train, y_train)\n",
        "results = pd.DataFrame(model.cv_results_)\n"
      ],
      "execution_count": 20,
      "outputs": []
    },
    {
      "cell_type": "code",
      "metadata": {
        "id": "JUzGbxfxoTDY",
        "colab": {
          "base_uri": "https://localhost:8080/",
          "height": 298
        },
        "outputId": "4ed98890-4a5b-4b92-9837-e1bb4c916c97"
      },
      "source": [
        "results.sort_values(by='mean_test_score', ascending=False).head()"
      ],
      "execution_count": 21,
      "outputs": [
        {
          "output_type": "execute_result",
          "data": {
            "text/html": [
              "<div>\n",
              "<style scoped>\n",
              "    .dataframe tbody tr th:only-of-type {\n",
              "        vertical-align: middle;\n",
              "    }\n",
              "\n",
              "    .dataframe tbody tr th {\n",
              "        vertical-align: top;\n",
              "    }\n",
              "\n",
              "    .dataframe thead th {\n",
              "        text-align: right;\n",
              "    }\n",
              "</style>\n",
              "<table border=\"1\" class=\"dataframe\">\n",
              "  <thead>\n",
              "    <tr style=\"text-align: right;\">\n",
              "      <th></th>\n",
              "      <th>mean_fit_time</th>\n",
              "      <th>std_fit_time</th>\n",
              "      <th>mean_score_time</th>\n",
              "      <th>std_score_time</th>\n",
              "      <th>param_classify</th>\n",
              "      <th>param_classify__n_neighbors</th>\n",
              "      <th>param_classify__criterion</th>\n",
              "      <th>param_classify__n_estimators</th>\n",
              "      <th>params</th>\n",
              "      <th>split0_test_score</th>\n",
              "      <th>split1_test_score</th>\n",
              "      <th>split2_test_score</th>\n",
              "      <th>split3_test_score</th>\n",
              "      <th>split4_test_score</th>\n",
              "      <th>mean_test_score</th>\n",
              "      <th>std_test_score</th>\n",
              "      <th>rank_test_score</th>\n",
              "      <th>split0_train_score</th>\n",
              "      <th>split1_train_score</th>\n",
              "      <th>split2_train_score</th>\n",
              "      <th>split3_train_score</th>\n",
              "      <th>split4_train_score</th>\n",
              "      <th>mean_train_score</th>\n",
              "      <th>std_train_score</th>\n",
              "    </tr>\n",
              "  </thead>\n",
              "  <tbody>\n",
              "    <tr>\n",
              "      <th>3</th>\n",
              "      <td>68.370208</td>\n",
              "      <td>0.459713</td>\n",
              "      <td>3.677190</td>\n",
              "      <td>0.046670</td>\n",
              "      <td>RandomForestClassifier(bootstrap=True, ccp_alp...</td>\n",
              "      <td>NaN</td>\n",
              "      <td>gini</td>\n",
              "      <td>300</td>\n",
              "      <td>{'classify': RandomForestClassifier(bootstrap=...</td>\n",
              "      <td>0.628547</td>\n",
              "      <td>0.625690</td>\n",
              "      <td>0.627541</td>\n",
              "      <td>0.630560</td>\n",
              "      <td>0.628158</td>\n",
              "      <td>0.628099</td>\n",
              "      <td>0.001573</td>\n",
              "      <td>1</td>\n",
              "      <td>0.988181</td>\n",
              "      <td>0.988441</td>\n",
              "      <td>0.988587</td>\n",
              "      <td>0.988043</td>\n",
              "      <td>0.988173</td>\n",
              "      <td>0.988285</td>\n",
              "      <td>0.000199</td>\n",
              "    </tr>\n",
              "    <tr>\n",
              "      <th>5</th>\n",
              "      <td>96.192791</td>\n",
              "      <td>0.804271</td>\n",
              "      <td>3.629290</td>\n",
              "      <td>0.020001</td>\n",
              "      <td>RandomForestClassifier(bootstrap=True, ccp_alp...</td>\n",
              "      <td>NaN</td>\n",
              "      <td>entropy</td>\n",
              "      <td>300</td>\n",
              "      <td>{'classify': RandomForestClassifier(bootstrap=...</td>\n",
              "      <td>0.628515</td>\n",
              "      <td>0.625528</td>\n",
              "      <td>0.627736</td>\n",
              "      <td>0.629911</td>\n",
              "      <td>0.626307</td>\n",
              "      <td>0.627599</td>\n",
              "      <td>0.001560</td>\n",
              "      <td>2</td>\n",
              "      <td>0.988181</td>\n",
              "      <td>0.988441</td>\n",
              "      <td>0.988587</td>\n",
              "      <td>0.988043</td>\n",
              "      <td>0.988173</td>\n",
              "      <td>0.988285</td>\n",
              "      <td>0.000199</td>\n",
              "    </tr>\n",
              "    <tr>\n",
              "      <th>2</th>\n",
              "      <td>22.895578</td>\n",
              "      <td>0.101496</td>\n",
              "      <td>1.225155</td>\n",
              "      <td>0.011046</td>\n",
              "      <td>RandomForestClassifier(bootstrap=True, ccp_alp...</td>\n",
              "      <td>NaN</td>\n",
              "      <td>gini</td>\n",
              "      <td>100</td>\n",
              "      <td>{'classify': RandomForestClassifier(bootstrap=...</td>\n",
              "      <td>0.628060</td>\n",
              "      <td>0.624131</td>\n",
              "      <td>0.626859</td>\n",
              "      <td>0.628385</td>\n",
              "      <td>0.625268</td>\n",
              "      <td>0.626541</td>\n",
              "      <td>0.001627</td>\n",
              "      <td>3</td>\n",
              "      <td>0.988173</td>\n",
              "      <td>0.988441</td>\n",
              "      <td>0.988579</td>\n",
              "      <td>0.988035</td>\n",
              "      <td>0.988173</td>\n",
              "      <td>0.988280</td>\n",
              "      <td>0.000199</td>\n",
              "    </tr>\n",
              "    <tr>\n",
              "      <th>4</th>\n",
              "      <td>32.603858</td>\n",
              "      <td>0.193908</td>\n",
              "      <td>1.217216</td>\n",
              "      <td>0.018160</td>\n",
              "      <td>RandomForestClassifier(bootstrap=True, ccp_alp...</td>\n",
              "      <td>NaN</td>\n",
              "      <td>entropy</td>\n",
              "      <td>100</td>\n",
              "      <td>{'classify': RandomForestClassifier(bootstrap=...</td>\n",
              "      <td>0.626145</td>\n",
              "      <td>0.624034</td>\n",
              "      <td>0.627249</td>\n",
              "      <td>0.627638</td>\n",
              "      <td>0.625917</td>\n",
              "      <td>0.626197</td>\n",
              "      <td>0.001260</td>\n",
              "      <td>4</td>\n",
              "      <td>0.988173</td>\n",
              "      <td>0.988441</td>\n",
              "      <td>0.988579</td>\n",
              "      <td>0.988035</td>\n",
              "      <td>0.988173</td>\n",
              "      <td>0.988280</td>\n",
              "      <td>0.000199</td>\n",
              "    </tr>\n",
              "    <tr>\n",
              "      <th>6</th>\n",
              "      <td>9.313792</td>\n",
              "      <td>0.056648</td>\n",
              "      <td>0.678210</td>\n",
              "      <td>0.007494</td>\n",
              "      <td>AdaBoostClassifier(algorithm='SAMME.R', base_e...</td>\n",
              "      <td>NaN</td>\n",
              "      <td>NaN</td>\n",
              "      <td>100</td>\n",
              "      <td>{'classify': AdaBoostClassifier(algorithm='SAM...</td>\n",
              "      <td>0.558835</td>\n",
              "      <td>0.557861</td>\n",
              "      <td>0.556595</td>\n",
              "      <td>0.557666</td>\n",
              "      <td>0.554127</td>\n",
              "      <td>0.557017</td>\n",
              "      <td>0.001611</td>\n",
              "      <td>5</td>\n",
              "      <td>0.556172</td>\n",
              "      <td>0.559436</td>\n",
              "      <td>0.556984</td>\n",
              "      <td>0.554671</td>\n",
              "      <td>0.557975</td>\n",
              "      <td>0.557048</td>\n",
              "      <td>0.001611</td>\n",
              "    </tr>\n",
              "  </tbody>\n",
              "</table>\n",
              "</div>"
            ],
            "text/plain": [
              "   mean_fit_time  std_fit_time  ...  mean_train_score  std_train_score\n",
              "3      68.370208      0.459713  ...          0.988285         0.000199\n",
              "5      96.192791      0.804271  ...          0.988285         0.000199\n",
              "2      22.895578      0.101496  ...          0.988280         0.000199\n",
              "4      32.603858      0.193908  ...          0.988280         0.000199\n",
              "6       9.313792      0.056648  ...          0.557048         0.001611\n",
              "\n",
              "[5 rows x 24 columns]"
            ]
          },
          "metadata": {
            "tags": []
          },
          "execution_count": 21
        }
      ]
    },
    {
      "cell_type": "code",
      "metadata": {
        "id": "IxgJFTslJkjy"
      },
      "source": [
        ""
      ],
      "execution_count": 21,
      "outputs": []
    },
    {
      "cell_type": "code",
      "metadata": {
        "id": "b9X_dq2VUd7k",
        "colab": {
          "base_uri": "https://localhost:8080/"
        },
        "outputId": "fb906298-65fe-4cd3-d494-17b5174aa3cf"
      },
      "source": [
        "# Best Model\n",
        "best_estimator_ = model.best_estimator_\n",
        "best_estimator_"
      ],
      "execution_count": 25,
      "outputs": [
        {
          "output_type": "execute_result",
          "data": {
            "text/plain": [
              "Pipeline(memory='/tmp/tmpu4stvmq4',\n",
              "         steps=[('classify',\n",
              "                 RandomForestClassifier(bootstrap=True, ccp_alpha=0.0,\n",
              "                                        class_weight=None, criterion='gini',\n",
              "                                        max_depth=None, max_features='auto',\n",
              "                                        max_leaf_nodes=None, max_samples=None,\n",
              "                                        min_impurity_decrease=0.0,\n",
              "                                        min_impurity_split=None,\n",
              "                                        min_samples_leaf=1, min_samples_split=2,\n",
              "                                        min_weight_fraction_leaf=0.0,\n",
              "                                        n_estimators=300, n_jobs=None,\n",
              "                                        oob_score=False, random_state=None,\n",
              "                                        verbose=0, warm_start=False))],\n",
              "         verbose=False)"
            ]
          },
          "metadata": {
            "tags": []
          },
          "execution_count": 25
        }
      ]
    },
    {
      "cell_type": "code",
      "metadata": {
        "id": "zBG3extjUhop"
      },
      "source": [
        "y_pred = pd.DataFrame()\n",
        "y_pred['predicted'] = best_estimator_.predict(X_test)\n"
      ],
      "execution_count": 26,
      "outputs": []
    },
    {
      "cell_type": "code",
      "metadata": {
        "id": "iwvluS73VMpY",
        "colab": {
          "base_uri": "https://localhost:8080/"
        },
        "outputId": "d3d6481a-586c-47bc-b90d-16cbf5830f3a"
      },
      "source": [
        "print(\"best_estimator_: \",accuracy_score(y_test, y_pred)* 100)"
      ],
      "execution_count": 27,
      "outputs": [
        {
          "output_type": "stream",
          "text": [
            "best_estimator_:  0.6388342327248642\n"
          ],
          "name": "stdout"
        }
      ]
    }
  ]
}